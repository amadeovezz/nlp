{
 "cells": [
  {
   "cell_type": "code",
   "execution_count": 1,
   "metadata": {
    "collapsed": true,
    "ExecuteTime": {
     "end_time": "2024-02-09T20:31:19.258958Z",
     "start_time": "2024-02-09T20:31:18.231418Z"
    }
   },
   "outputs": [],
   "source": [
    "# Third party\n",
    "import importlib\n",
    "import torch\n",
    "import matplotlib.pyplot as plt\n",
    "\n",
    "# User\n",
    "import base.abstract\n",
    "import base.mlp\n",
    "import base.train\n",
    "import base.encode\n",
    "import base.pre_process\n",
    "import base.viz\n",
    "import model\n",
    "\n",
    "importlib.reload(base.abstract)\n",
    "importlib.reload(base.mlp)\n",
    "importlib.reload(base.train)\n",
    "importlib.reload(base.encode)\n",
    "importlib.reload(base.pre_process)\n",
    "importlib.reload(base.viz)\n",
    "importlib.reload(model)\n",
    "\n",
    "from base.mlp import MLP, LinearLayer\n",
    "from base.train import sgd\n",
    "from base.encode import get_encoder_decoder\n",
    "from base.pre_process import get_dataset\n",
    "from base.viz import plot_2d_char_embedding\n",
    "from model import EmbMLP"
   ]
  },
  {
   "cell_type": "code",
   "execution_count": 2,
   "outputs": [],
   "source": [
    "encoder, decoder = get_encoder_decoder(training_data=\"../data/shakespear.txt\", type='character')\n",
    "# let's now encode the entire text dataset and store it into a torch.Tensor\n",
    "with open(\"../data/shakespear.txt\", 'r', encoding='utf-8') as f:\n",
    "    text = f.read()\n",
    "text_encoded = torch.tensor(encoder(text), dtype=torch.long)\n",
    "unique_chars = sorted(list(set(text)))"
   ],
   "metadata": {
    "collapsed": false,
    "ExecuteTime": {
     "end_time": "2024-02-09T20:31:20.453293Z",
     "start_time": "2024-02-09T20:31:20.350761Z"
    }
   }
  },
  {
   "cell_type": "code",
   "execution_count": 3,
   "outputs": [
    {
     "data": {
      "text/plain": "(948085, 167309)"
     },
     "execution_count": 3,
     "metadata": {},
     "output_type": "execute_result"
    }
   ],
   "source": [
    "token_length = 10\n",
    "dataset =  get_dataset(text_encoded, token_length, context_window=\"fixed\")\n",
    "train_data, train_targets = dataset[\"train\"]\n",
    "validation_data, validation_targets = dataset[\"validation\"]\n",
    "len(train_data), len(validation_data)\n"
   ],
   "metadata": {
    "collapsed": false,
    "ExecuteTime": {
     "end_time": "2024-02-09T20:31:26.231647Z",
     "start_time": "2024-02-09T20:31:21.360940Z"
    }
   }
  },
  {
   "cell_type": "code",
   "outputs": [
    {
     "data": {
      "text/plain": "('First Citi', tensor([18, 47, 56, 57, 58,  1, 15, 47, 58, 47]), tensor(64))"
     },
     "execution_count": 4,
     "metadata": {},
     "output_type": "execute_result"
    }
   ],
   "source": [
    "decoder(train_data[10].tolist()), train_data[10], train_targets[10]"
   ],
   "metadata": {
    "collapsed": false,
    "ExecuteTime": {
     "end_time": "2024-02-07T17:27:01.785368Z",
     "start_time": "2024-02-07T17:27:01.778718Z"
    }
   },
   "execution_count": 4
  },
  {
   "cell_type": "code",
   "execution_count": 60,
   "outputs": [],
   "source": [
    "g = torch.Generator().manual_seed(2147483647)\n",
    "\n",
    "hp = {\n",
    "    \"init_learning_rate\": .001,\n",
    "    \"converging_learning_rate\": .01,\n",
    "    \"epochs\": 1,\n",
    "    \"epochs_log_interval\": 10000,\n",
    "    \"dim_of_embedding\": 10,\n",
    "    \"num_layer_1_nodes\": 10,\n",
    "    \"mini_batch_size\": 32,\n",
    "    \"token_length\": token_length\n",
    "}\n",
    "\n",
    "params = {\n",
    "    \"num_of_unique_chars\": len(unique_chars)\n",
    "}\n",
    "\n",
    "l1 = LinearLayer(\n",
    "    num_of_inputs=hp['token_length'] * hp['dim_of_embedding'],\n",
    "    num_of_neurons=hp['num_layer_1_nodes'],\n",
    "    activation_func=torch.relu,\n",
    "    generator=g,\n",
    ")\n",
    "l2 = LinearLayer(\n",
    "    num_of_inputs=hp['num_layer_1_nodes'],\n",
    "    num_of_neurons=len(unique_chars),\n",
    "    generator=g\n",
    ")\n",
    "\n",
    "mlp = MLP([l1,l2])\n",
    "model = EmbMLP(hp,mlp,generator=g,**params)\n"
   ],
   "metadata": {
    "collapsed": false,
    "ExecuteTime": {
     "end_time": "2024-02-09T17:24:17.951022Z",
     "start_time": "2024-02-09T17:24:17.071620Z"
    }
   }
  },
  {
   "cell_type": "code",
   "execution_count": 61,
   "outputs": [
    {
     "name": "stdout",
     "output_type": "stream",
     "text": [
      "epoch: 0 / 1, loss: 46.3134\n"
     ]
    }
   ],
   "source": [
    "loss_list = []\n",
    "model.require_grad()\n",
    "sgd(hp, model, train_data, train_targets, loss_list)"
   ],
   "metadata": {
    "collapsed": false,
    "ExecuteTime": {
     "end_time": "2024-02-09T17:24:18.624654Z",
     "start_time": "2024-02-09T17:24:18.619689Z"
    }
   }
  },
  {
   "cell_type": "code",
   "execution_count": 37,
   "outputs": [
    {
     "name": "stdout",
     "output_type": "stream",
     "text": [
      "train loss: 2.380656989304502\n",
      "validation loss: 2.4427515740524393\n"
     ]
    }
   ],
   "source": [
    "# Compute negative log likelihood of the train/validation\n",
    "\n",
    "print(f\"train loss: {model.dataset_loss(train_data, train_targets)}\")\n",
    "print(f\"validation loss: {model.dataset_loss(validation_data, validation_targets)}\" )"
   ],
   "metadata": {
    "collapsed": false,
    "ExecuteTime": {
     "end_time": "2024-02-07T18:52:44.071045Z",
     "start_time": "2024-02-07T18:52:43.585932Z"
    }
   }
  },
  {
   "cell_type": "code",
   "execution_count": 62,
   "outputs": [
    {
     "data": {
      "text/plain": "[<matplotlib.lines.Line2D at 0x12ffc3ca0>]"
     },
     "execution_count": 62,
     "metadata": {},
     "output_type": "execute_result"
    },
    {
     "data": {
      "text/plain": "<Figure size 640x480 with 1 Axes>",
      "image/png": "[encoded data removed]"
     },
     "metadata": {},
     "output_type": "display_data"
    }
   ],
   "source": [
    "plt.plot(loss_list)"
   ],
   "metadata": {
    "collapsed": false,
    "ExecuteTime": {
     "end_time": "2024-02-09T17:24:21.876922Z",
     "start_time": "2024-02-09T17:24:21.778029Z"
    }
   }
  },
  {
   "cell_type": "code",
   "execution_count": 39,
   "outputs": [
    {
     "data": {
      "text/plain": "<Figure size 800x800 with 1 Axes>",
      "image/png": "[encoded data removed]"
     },
     "metadata": {},
     "output_type": "display_data"
    }
   ],
   "source": [
    "plot_2d_char_embedding(unique_chars, model.embedding)\n"
   ],
   "metadata": {
    "collapsed": false,
    "ExecuteTime": {
     "end_time": "2024-02-07T18:52:53.298345Z",
     "start_time": "2024-02-07T18:52:53.161318Z"
    }
   }
  },
  {
   "cell_type": "code",
   "execution_count": 42,
   "outputs": [
    {
     "name": "stdout",
     "output_type": "stream",
     "text": [
      "LEHINLUNfhl:\n",
      "Cely.\n",
      "\n",
      "KISARY Bis:\n",
      "Fon eqpefaen, thete nante wary\n",
      "thos mineles? Bapyd: nout am os btherbens!\n",
      "Ong ay haRetthill doth kice golneprafe.\n",
      "\n",
      "Thend.\n",
      "\n",
      "IS:\n",
      "Wheme cou the vobd then as, lr hanghtreeur ise the s-I-Sirte duvegenghf the ogon wos?\n",
      "Ot\n",
      "AMTURIBACISIN:\n",
      "Wha.\n",
      "CARIENNINEIUECISIN:\n",
      "Whille trourchinls rewelb-Gat wot hly ha as tay, hes me twer, each borlltow koterssor ind, tik hor,\n",
      "Dhunuuve cor bos hevly so throt sarr: sovenpe be hafand wos poindas, qloun thedoe I meyd pimaau libi sorir Case I rance a aresor rot timiw' theruxtaaf thor tetos, horas lome fydhha; tom; pey wher Iutf lat dy osr gas'st ot throe chere,\n",
      "Thod3e, afet me tha becar bawlord thou thar,,\n",
      "Thilnlniw as, thet chatorortot hot yor thir tyd'coy Hie I Mamly\n",
      "Whonlir whem had pird.\n",
      "Oy fount thet fly id?\n",
      "\n",
      "LONURTUTCHAR:\n",
      "Meme poveunet'd bokecoamt whenst Ely prurass Toslen: i nlecas leIiras,huti. hhe adronghe ocon, bory lhod leesll'are hus ireebe oum\n",
      "Ny,\n",
      "CERIOHY:\n",
      "Mim beme gopr shle ond ond sot th ay ores,\n",
      "Tha bifhy,\n",
      "Bakay, sh\n"
     ]
    }
   ],
   "source": [
    "print(decoder(model.generate(1000)))"
   ],
   "metadata": {
    "collapsed": false,
    "ExecuteTime": {
     "end_time": "2024-02-07T19:04:01.568679Z",
     "start_time": "2024-02-07T19:04:01.539575Z"
    }
   }
  },
  {
   "cell_type": "markdown",
   "source": [],
   "metadata": {
    "collapsed": false
   }
  }
 ],
 "metadata": {
  "kernelspec": {
   "display_name": "Python 3",
   "language": "python",
   "name": "python3"
  },
  "language_info": {
   "codemirror_mode": {
    "name": "ipython",
    "version": 2
   },
   "file_extension": ".py",
   "mimetype": "text/x-python",
   "name": "python",
   "nbconvert_exporter": "python",
   "pygments_lexer": "ipython2",
   "version": "2.7.6"
  }
 },
 "nbformat": 4,
 "nbformat_minor": 0
}
