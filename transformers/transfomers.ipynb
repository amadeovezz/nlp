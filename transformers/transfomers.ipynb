{
 "cells": [
  {
   "cell_type": "code",
   "execution_count": 14,
   "outputs": [],
   "source": [
    "# Third party\n",
    "import importlib\n",
    "import torch\n",
    "import matplotlib.pyplot as plt\n",
    "\n",
    "# User\n",
    "import base.abstract\n",
    "import base.mlp\n",
    "import base.train\n",
    "import base.encode\n",
    "import base.pre_process\n",
    "import model\n",
    "\n",
    "importlib.reload(base.abstract)\n",
    "importlib.reload(base.mlp)\n",
    "importlib.reload(base.train)\n",
    "importlib.reload(base.encode)\n",
    "importlib.reload(base.pre_process)\n",
    "importlib.reload(model)\n",
    "\n",
    "from base.train import sgd\n",
    "from base.encode import get_encoder_decoder\n",
    "from base.mlp import LinearLayer, MLP\n",
    "from base.train import sgd\n",
    "from base.pre_process import get_dataset\n",
    "from model import Attention"
   ],
   "metadata": {
    "collapsed": false,
    "ExecuteTime": {
     "end_time": "2023-12-29T18:15:36.247811Z",
     "start_time": "2023-12-29T18:15:36.239810Z"
    }
   }
  },
  {
   "cell_type": "code",
   "execution_count": 3,
   "outputs": [],
   "source": [
    "encoder, decoder = get_encoder_decoder(training_data=\"../data/shakespear.txt\", type='character')\n",
    "# let's now encode the entire text dataset and store it into a torch.Tensor\n",
    "with open(\"../data/shakespear.txt\", 'r', encoding='utf-8') as f:\n",
    "    text = f.read()\n",
    "text_encoded = torch.tensor(encoder(text), dtype=torch.long)\n",
    "unique_chars = sorted(list(set(text)))"
   ],
   "metadata": {
    "collapsed": false,
    "ExecuteTime": {
     "end_time": "2023-12-29T17:28:24.892176Z",
     "start_time": "2023-12-29T17:28:24.784814Z"
    }
   }
  },
  {
   "cell_type": "code",
   "execution_count": 13,
   "outputs": [
    {
     "data": {
      "text/plain": "tensor(5)"
     },
     "execution_count": 13,
     "metadata": {},
     "output_type": "execute_result"
    }
   ],
   "source": [
    "torch.randint(1,10, ())\n"
   ],
   "metadata": {
    "collapsed": false,
    "ExecuteTime": {
     "end_time": "2023-12-29T18:09:50.806027Z",
     "start_time": "2023-12-29T18:09:50.800243Z"
    }
   }
  },
  {
   "cell_type": "code",
   "execution_count": null,
   "outputs": [],
   "source": [
    "token_length = 3\n",
    "dataset =  get_dataset(text_encoded, 3, context_window=\"expanding\")\n",
    "train_data, train_targets = dataset[\"train\"]\n",
    "validation_data, validation_targets = dataset[\"validation\"]\n",
    "len(train_data), len(validation_data)"
   ],
   "metadata": {
    "collapsed": false,
    "is_executing": true
   }
  },
  {
   "cell_type": "code",
   "execution_count": null,
   "outputs": [],
   "source": [],
   "metadata": {
    "collapsed": false
   }
  },
  {
   "cell_type": "code",
   "execution_count": 7,
   "outputs": [],
   "source": [
    "\n",
    "hp = {\n",
    "    \"init_learning_rate\": .1,\n",
    "    \"converging_learning_rate\": .01,\n",
    "    \"learning_rate\": .1,\n",
    "    \"epochs\": 100000,\n",
    "    \"dim_of_embedding\": 2,\n",
    "    \"dim_of_attention_embedding\": 3,\n",
    "    \"num_layer_1_nodes\": 10,\n",
    "    \"mini_batch_size\": 3,\n",
    "    \"token_length\": 8,\n",
    "}\n",
    "\n",
    "l1 = LinearLayer(\n",
    "    num_of_inputs=hp['dim_of_attention_embedding'], #3x8x3 3x10 = 3x8x10\n",
    "    num_of_neurons=10,\n",
    "    activation_func=torch.tanh,\n",
    ")\n",
    "l2 = LinearLayer(\n",
    "    num_of_inputs=10,\n",
    "    num_of_neurons=len(unique_chars),\n",
    ")\n",
    "\n",
    "\n",
    "mlp_model = MLP(layers=[l1,l2])\n",
    "a = Attention(hp,mlp_model, num_of_unique_chars=len(unique_chars))\n",
    "# Get batch\n"
   ],
   "metadata": {
    "collapsed": false,
    "ExecuteTime": {
     "end_time": "2023-12-29T17:29:05.935597Z",
     "start_time": "2023-12-29T17:29:05.932266Z"
    }
   }
  },
  {
   "cell_type": "code",
   "execution_count": 49,
   "outputs": [
    {
     "data": {
      "text/plain": "2.719253019167612"
     },
     "execution_count": 49,
     "metadata": {},
     "output_type": "execute_result"
    }
   ],
   "source": [],
   "metadata": {
    "collapsed": false,
    "ExecuteTime": {
     "end_time": "2023-12-16T19:11:02.868661Z",
     "start_time": "2023-12-16T19:11:02.865915Z"
    }
   }
  }
 ],
 "metadata": {
  "kernelspec": {
   "display_name": "Python 3",
   "language": "python",
   "name": "python3"
  },
  "language_info": {
   "codemirror_mode": {
    "name": "ipython",
    "version": 2
   },
   "file_extension": ".py",
   "mimetype": "text/x-python",
   "name": "python",
   "nbconvert_exporter": "python",
   "pygments_lexer": "ipython2",
   "version": "2.7.6"
  }
 },
 "nbformat": 4,
 "nbformat_minor": 0
}
