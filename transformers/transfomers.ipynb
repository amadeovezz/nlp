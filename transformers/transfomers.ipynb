{
 "cells": [
  {
   "cell_type": "code",
   "execution_count": 44,
   "outputs": [],
   "source": [
    "# Third party\n",
    "import importlib\n",
    "import torch\n",
    "import torch.nn.functional as F\n",
    "import matplotlib.pyplot as plt\n",
    "\n",
    "\n",
    "# User\n",
    "import encode\n",
    "import pre_process\n",
    "import attention\n",
    "import train\n",
    "\n",
    "importlib.reload(encode)\n",
    "importlib.reload(pre_process)\n",
    "importlib.reload(attention)\n",
    "importlib.reload(train)\n",
    "\n",
    "from attention import BatchedAttentionHead\n",
    "from encode import get_text_encoder_decoder, positional_encode\n",
    "from pre_process import build_dataset\n",
    "from train import sgd\n",
    "from mlp.layer import LinearLayer\n"
   ],
   "metadata": {
    "collapsed": false,
    "ExecuteTime": {
     "end_time": "2023-12-16T19:06:47.555594Z",
     "start_time": "2023-12-16T19:06:47.546397Z"
    }
   }
  },
  {
   "cell_type": "code",
   "execution_count": 2,
   "outputs": [],
   "source": [
    "encoder, decoder = get_text_encoder_decoder(training_data=\"../data/shakespear.txt\", type='character')\n",
    "# let's now encode the entire text dataset and store it into a torch.Tensor\n",
    "with open(\"../data/shakespear.txt\", 'r', encoding='utf-8') as f:\n",
    "    text = f.read()\n",
    "text_encoded = torch.tensor(encoder(text), dtype=torch.long)\n",
    "unique_chars = sorted(list(set(text)))"
   ],
   "metadata": {
    "collapsed": false,
    "ExecuteTime": {
     "end_time": "2023-12-16T18:43:48.211751Z",
     "start_time": "2023-12-16T18:43:48.118145Z"
    }
   }
  },
  {
   "cell_type": "code",
   "execution_count": 3,
   "outputs": [],
   "source": [
    "token_length = 8\n",
    "inputs, targets = build_dataset(text_encoded,token_length)\n"
   ],
   "metadata": {
    "collapsed": false,
    "ExecuteTime": {
     "end_time": "2023-12-16T18:43:53.908936Z",
     "start_time": "2023-12-16T18:43:49.486870Z"
    }
   }
  },
  {
   "cell_type": "code",
   "execution_count": 45,
   "outputs": [],
   "source": [
    "\n",
    "hp = {\n",
    "    \"init_learning_rate\": .1,\n",
    "    \"converging_learning_rate\": .01,\n",
    "    \"learning_rate\": .1,\n",
    "    \"epochs\": 100000,\n",
    "    \"dim_of_embedding\": 2,\n",
    "    \"dim_of_attention_embedding\": 3,\n",
    "    \"num_layer_1_nodes\": 10,\n",
    "    \"mini_batch_size\": 3,\n",
    "    \"token_length\": token_length\n",
    "}\n",
    "\n",
    "Embedding = torch.randn((len(unique_chars)\n",
    "                        ,hp[\"dim_of_embedding\"])\n",
    "                        ,requires_grad=True\n",
    "                        , dtype=torch.float64)\n",
    "\n",
    "attention_head = BatchedAttentionHead(\n",
    "    emb_dim=hp['dim_of_embedding'],\n",
    "    out_dimension=hp[\"dim_of_attention_embedding\"] ,\n",
    ")\n",
    "\n",
    "l1 = LinearLayer(\n",
    "    num_of_inputs=hp['dim_of_attention_embedding'], #3x8x3 3x10 = 3x8x10\n",
    "    num_of_neurons=10,\n",
    "    activation_func=torch.tanh,\n",
    ")\n",
    "l2 = LinearLayer(\n",
    "    num_of_inputs=10,\n",
    "    num_of_neurons=len(unique_chars),\n",
    ")\n",
    "\n",
    "attention_head.require_grad()\n",
    "layers = [l1, l2]\n",
    "for l in layers:\n",
    "    l.require_grad()\n",
    "\n",
    "loss_list = []\n",
    "train.sgd(hp\n",
    "            , Embedding\n",
    "            , positional_encode\n",
    "            , attention_head\n",
    "            , layers\n",
    "            , inputs\n",
    "            , targets\n",
    "           , loss_list)\n",
    "\n"
   ],
   "metadata": {
    "collapsed": false,
    "ExecuteTime": {
     "end_time": "2023-12-16T19:07:12.507563Z",
     "start_time": "2023-12-16T19:06:49.017580Z"
    }
   }
  },
  {
   "cell_type": "code",
   "execution_count": 49,
   "outputs": [
    {
     "data": {
      "text/plain": "2.719253019167612"
     },
     "execution_count": 49,
     "metadata": {},
     "output_type": "execute_result"
    }
   ],
   "source": [
    "loss_list[-1]"
   ],
   "metadata": {
    "collapsed": false,
    "ExecuteTime": {
     "end_time": "2023-12-16T19:11:02.868661Z",
     "start_time": "2023-12-16T19:11:02.865915Z"
    }
   }
  },
  {
   "cell_type": "code",
   "execution_count": null,
   "outputs": [],
   "source": [
    "plt.plot(loss_list)\n"
   ],
   "metadata": {
    "collapsed": false
   }
  }
 ],
 "metadata": {
  "kernelspec": {
   "display_name": "Python 3",
   "language": "python",
   "name": "python3"
  },
  "language_info": {
   "codemirror_mode": {
    "name": "ipython",
    "version": 2
   },
   "file_extension": ".py",
   "mimetype": "text/x-python",
   "name": "python",
   "nbconvert_exporter": "python",
   "pygments_lexer": "ipython2",
   "version": "2.7.6"
  }
 },
 "nbformat": 4,
 "nbformat_minor": 0
}
