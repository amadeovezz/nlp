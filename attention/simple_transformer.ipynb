{
 "cells": [
  {
   "cell_type": "code",
   "execution_count": 1,
   "outputs": [],
   "source": [
    "# Third party\n",
    "import importlib\n",
    "import torch\n",
    "import matplotlib.pyplot as plt\n",
    "\n",
    "# User\n",
    "import base.abstract\n",
    "import base.mlp\n",
    "import base.train\n",
    "import base.encode\n",
    "import base.pre_process\n",
    "import model\n",
    "import attention\n",
    "\n",
    "importlib.reload(base.abstract)\n",
    "importlib.reload(base.mlp)\n",
    "importlib.reload(base.train)\n",
    "importlib.reload(base.encode)\n",
    "importlib.reload(base.pre_process)\n",
    "importlib.reload(base.norm)\n",
    "importlib.reload(model)\n",
    "importlib.reload(attention)\n",
    "\n",
    "from base.train import sgd\n",
    "from base.encode import get_encoder_decoder\n",
    "from base.mlp import LinearLayer, MLP\n",
    "from base.train import sgd\n",
    "from base.pre_process import get_dataset\n",
    "from model import SimpleTransformer, Transformer\n",
    "from attention import BatchedSelfAttentionHead\n",
    "from encode import positional_encode"
   ],
   "metadata": {
    "collapsed": false,
    "ExecuteTime": {
     "end_time": "2024-02-04T22:08:02.847582Z",
     "start_time": "2024-02-04T22:08:01.987181Z"
    }
   }
  },
  {
   "cell_type": "code",
   "execution_count": 2,
   "outputs": [],
   "source": [
    "encoder, decoder = get_encoder_decoder(training_data=\"../data/shakespear.txt\", type='character')\n",
    "# let's now encode the entire text dataset and store it into a torch.Tensor\n",
    "with open(\"../data/shakespear.txt\", 'r', encoding='utf-8') as f:\n",
    "    text = f.read()\n",
    "text_encoded = torch.tensor(encoder(text), dtype=torch.long)\n",
    "unique_chars = sorted(list(set(text)))"
   ],
   "metadata": {
    "collapsed": false,
    "ExecuteTime": {
     "end_time": "2024-02-04T22:08:05.056594Z",
     "start_time": "2024-02-04T22:08:04.948192Z"
    }
   }
  },
  {
   "cell_type": "code",
   "execution_count": 3,
   "outputs": [
    {
     "data": {
      "text/plain": "(948085, 167309)"
     },
     "execution_count": 3,
     "metadata": {},
     "output_type": "execute_result"
    }
   ],
   "source": [
    "token_length = 32\n",
    "dataset =  get_dataset(text_encoded, token_length, context_window=\"expanding\")\n",
    "train_data, train_targets = dataset[\"train\"]\n",
    "validation_data, validation_targets = dataset[\"validation\"]\n",
    "len(train_data), len(validation_data)\n"
   ],
   "metadata": {
    "collapsed": false,
    "ExecuteTime": {
     "end_time": "2024-02-04T22:08:29.154094Z",
     "start_time": "2024-02-04T22:08:07.896103Z"
    }
   }
  },
  {
   "cell_type": "code",
   "execution_count": 4,
   "outputs": [],
   "source": [
    "\n",
    "g = torch.Generator().manual_seed(2147483647)\n",
    "\n",
    "hp = {\n",
    "    \"init_learning_rate\": .1,\n",
    "    \"converging_learning_rate\": .01,\n",
    "    \"epochs\": 5000,\n",
    "    \"dim_of_embedding\": 10,\n",
    "    \"num_layer_1_nodes\": 15,\n",
    "    \"mini_batch_size\": 3,\n",
    "    \"token_length\": token_length,\n",
    "}\n",
    "\n",
    "params = {\n",
    "    \"num_of_unique_chars\": len(unique_chars),\n",
    "    \"positional_encoding_func\": positional_encode,\n",
    "    \"attention_block_type\": \"decoder\"\n",
    "}\n",
    "\n",
    "l1 = LinearLayer(\n",
    "    num_of_inputs=hp['dim_of_embedding'], #3x8x3 3x10 = 3x8x10\n",
    "    num_of_neurons=hp[\"num_layer_1_nodes\"],\n",
    "    activation_func=torch.tanh,\n",
    "    generator=g\n",
    ")\n",
    "l2 = LinearLayer(\n",
    "    num_of_inputs=hp[\"num_layer_1_nodes\"],\n",
    "    num_of_neurons=hp[\"dim_of_embedding\"],\n",
    "    activation_func=torch.tanh,\n",
    "    generator=g\n",
    ")\n",
    "\n",
    "mlp_model = MLP(layers=[l1,l2])\n",
    "attention_model = SimpleTransformer(hp, mlp_model, generator=g, **params)\n",
    "\n"
   ],
   "metadata": {
    "collapsed": false,
    "ExecuteTime": {
     "end_time": "2024-02-04T22:08:32.638008Z",
     "start_time": "2024-02-04T22:08:32.633271Z"
    }
   }
  },
  {
   "cell_type": "code",
   "execution_count": 17,
   "outputs": [
    {
     "name": "stdout",
     "output_type": "stream",
     "text": [
      "epoch: 0 / 5000, loss: 17.7756\n",
      "epoch: 200 / 5000, loss: 11.9667\n",
      "epoch: 400 / 5000, loss: 6.5477\n",
      "epoch: 600 / 5000, loss: 5.7276\n",
      "epoch: 800 / 5000, loss: 4.9729\n",
      "epoch: 1000 / 5000, loss: 4.7452\n",
      "epoch: 1200 / 5000, loss: 4.3639\n",
      "epoch: 1400 / 5000, loss: 4.2335\n",
      "epoch: 1600 / 5000, loss: 3.9021\n",
      "epoch: 1800 / 5000, loss: 3.6653\n",
      "epoch: 2000 / 5000, loss: 3.9079\n",
      "epoch: 2200 / 5000, loss: 3.7370\n",
      "epoch: 2400 / 5000, loss: 3.6375\n",
      "epoch: 2600 / 5000, loss: 3.7243\n",
      "epoch: 2800 / 5000, loss: 4.2906\n",
      "epoch: 3000 / 5000, loss: 3.4927\n",
      "epoch: 3200 / 5000, loss: 3.9136\n",
      "epoch: 3400 / 5000, loss: 4.0152\n",
      "epoch: 3600 / 5000, loss: 3.4438\n",
      "epoch: 3800 / 5000, loss: 3.8420\n",
      "epoch: 4000 / 5000, loss: 3.6569\n",
      "epoch: 4200 / 5000, loss: 3.5650\n",
      "epoch: 4400 / 5000, loss: 3.5271\n",
      "epoch: 4600 / 5000, loss: 3.5728\n",
      "epoch: 4800 / 5000, loss: 3.8662\n"
     ]
    }
   ],
   "source": [
    "attention_model.require_grad()\n",
    "loss_list = []\n",
    "sgd(hp\n",
    "    , attention_model\n",
    "    , training_inputs=train_data\n",
    "    , training_targets=train_targets\n",
    "    , loss_list=loss_list\n",
    ")\n"
   ],
   "metadata": {
    "collapsed": false,
    "ExecuteTime": {
     "end_time": "2024-02-04T22:22:07.469294Z",
     "start_time": "2024-02-04T22:20:39.475150Z"
    }
   }
  },
  {
   "cell_type": "code",
   "execution_count": 18,
   "outputs": [
    {
     "data": {
      "text/plain": "[<matplotlib.lines.Line2D at 0xede46da30>]"
     },
     "execution_count": 18,
     "metadata": {},
     "output_type": "execute_result"
    },
    {
     "data": {
      "text/plain": "<Figure size 640x480 with 1 Axes>",
      "image/png": "[encoded data removed]"
     },
     "metadata": {},
     "output_type": "display_data"
    }
   ],
   "source": [
    "plt.plot(loss_list)\n"
   ],
   "metadata": {
    "collapsed": false,
    "ExecuteTime": {
     "end_time": "2024-02-04T22:22:23.636024Z",
     "start_time": "2024-02-04T22:22:23.537760Z"
    }
   }
  },
  {
   "cell_type": "code",
   "execution_count": 21,
   "outputs": [
    {
     "ename": "KeyboardInterrupt",
     "evalue": "",
     "output_type": "error",
     "traceback": [
      "\u001B[0;31m---------------------------------------------------------------------------\u001B[0m",
      "\u001B[0;31mKeyboardInterrupt\u001B[0m                         Traceback (most recent call last)",
      "Cell \u001B[0;32mIn[21], line 3\u001B[0m\n\u001B[1;32m      1\u001B[0m \u001B[38;5;66;03m# Compute negative log likelihood of the train/validation\u001B[39;00m\n\u001B[0;32m----> 3\u001B[0m \u001B[38;5;28mprint\u001B[39m(\u001B[38;5;124mf\u001B[39m\u001B[38;5;124m\"\u001B[39m\u001B[38;5;124mtrain loss: \u001B[39m\u001B[38;5;132;01m{\u001B[39;00mattention_model\u001B[38;5;241m.\u001B[39mdataset_loss(train_data,\u001B[38;5;250m \u001B[39mtrain_targets)\u001B[38;5;132;01m}\u001B[39;00m\u001B[38;5;124m\"\u001B[39m)\n\u001B[1;32m      4\u001B[0m \u001B[38;5;28mprint\u001B[39m(\u001B[38;5;124mf\u001B[39m\u001B[38;5;124m\"\u001B[39m\u001B[38;5;124mvalidation loss: \u001B[39m\u001B[38;5;132;01m{\u001B[39;00mattention_model\u001B[38;5;241m.\u001B[39mdataset_loss(validation_data,\u001B[38;5;250m \u001B[39mvalidation_targets)\u001B[38;5;132;01m}\u001B[39;00m\u001B[38;5;124m\"\u001B[39m )\n",
      "File \u001B[0;32m~/Dev/nlp/venv/lib/python3.9/site-packages/torch/utils/_contextlib.py:115\u001B[0m, in \u001B[0;36mcontext_decorator.<locals>.decorate_context\u001B[0;34m(*args, **kwargs)\u001B[0m\n\u001B[1;32m    112\u001B[0m \u001B[38;5;129m@functools\u001B[39m\u001B[38;5;241m.\u001B[39mwraps(func)\n\u001B[1;32m    113\u001B[0m \u001B[38;5;28;01mdef\u001B[39;00m \u001B[38;5;21mdecorate_context\u001B[39m(\u001B[38;5;241m*\u001B[39margs, \u001B[38;5;241m*\u001B[39m\u001B[38;5;241m*\u001B[39mkwargs):\n\u001B[1;32m    114\u001B[0m     \u001B[38;5;28;01mwith\u001B[39;00m ctx_factory():\n\u001B[0;32m--> 115\u001B[0m         \u001B[38;5;28;01mreturn\u001B[39;00m \u001B[43mfunc\u001B[49m\u001B[43m(\u001B[49m\u001B[38;5;241;43m*\u001B[39;49m\u001B[43margs\u001B[49m\u001B[43m,\u001B[49m\u001B[43m \u001B[49m\u001B[38;5;241;43m*\u001B[39;49m\u001B[38;5;241;43m*\u001B[39;49m\u001B[43mkwargs\u001B[49m\u001B[43m)\u001B[49m\n",
      "File \u001B[0;32m~/Dev/nlp/attention/model.py:144\u001B[0m, in \u001B[0;36mSimpleTransformer.dataset_loss\u001B[0;34m(self, all_inputs, all_targets)\u001B[0m\n\u001B[1;32m    142\u001B[0m \u001B[38;5;129m@torch\u001B[39m\u001B[38;5;241m.\u001B[39mno_grad\n\u001B[1;32m    143\u001B[0m \u001B[38;5;28;01mdef\u001B[39;00m \u001B[38;5;21mdataset_loss\u001B[39m(\u001B[38;5;28mself\u001B[39m, all_inputs: torch\u001B[38;5;241m.\u001B[39mTensor, all_targets: torch\u001B[38;5;241m.\u001B[39mTensor) \u001B[38;5;241m-\u001B[39m\u001B[38;5;241m>\u001B[39m torch\u001B[38;5;241m.\u001B[39mTensor:\n\u001B[0;32m--> 144\u001B[0m     out \u001B[38;5;241m=\u001B[39m \u001B[38;5;28;43mself\u001B[39;49m\u001B[38;5;241;43m.\u001B[39;49m\u001B[43mforward\u001B[49m\u001B[43m(\u001B[49m\u001B[43mall_inputs\u001B[49m\u001B[43m)\u001B[49m\n\u001B[1;32m    145\u001B[0m     \u001B[38;5;28;01mreturn\u001B[39;00m \u001B[38;5;28mself\u001B[39m\u001B[38;5;241m.\u001B[39mloss(out, all_targets)\n",
      "File \u001B[0;32m~/Dev/nlp/attention/model.py:227\u001B[0m, in \u001B[0;36mTransformer.forward\u001B[0;34m(self, inputs_idx)\u001B[0m\n\u001B[1;32m    222\u001B[0m \u001B[38;5;250m\u001B[39m\u001B[38;5;124;03m\"\"\"\u001B[39;00m\n\u001B[1;32m    223\u001B[0m \u001B[38;5;124;03m:param inputs: tensor with dim: [Batch, Index of inputs (Tokens)]\u001B[39;00m\n\u001B[1;32m    224\u001B[0m \u001B[38;5;124;03m:return: [Batch, Token, Logits]\u001B[39;00m\n\u001B[1;32m    225\u001B[0m \u001B[38;5;124;03m\"\"\"\u001B[39;00m\n\u001B[1;32m    226\u001B[0m \u001B[38;5;66;03m# embedding [Batch, Tokens, Embedding]\u001B[39;00m\n\u001B[0;32m--> 227\u001B[0m token_embedding \u001B[38;5;241m=\u001B[39m \u001B[38;5;28;43mself\u001B[39;49m\u001B[38;5;241;43m.\u001B[39;49m\u001B[43membedding\u001B[49m\u001B[43m[\u001B[49m\u001B[43minputs_idx\u001B[49m\u001B[43m]\u001B[49m\n\u001B[1;32m    229\u001B[0m \u001B[38;5;66;03m# positional embedding\u001B[39;00m\n\u001B[1;32m    230\u001B[0m positional_embedding \u001B[38;5;241m=\u001B[39m \u001B[38;5;28mself\u001B[39m\u001B[38;5;241m.\u001B[39mpositional_encoding_func(token_embedding[\u001B[38;5;241m0\u001B[39m]\u001B[38;5;241m.\u001B[39mshape[\u001B[38;5;241m0\u001B[39m], \u001B[38;5;28mself\u001B[39m\u001B[38;5;241m.\u001B[39mhp[\u001B[38;5;124m\"\u001B[39m\u001B[38;5;124mdim_of_embedding\u001B[39m\u001B[38;5;124m\"\u001B[39m])\n",
      "\u001B[0;31mKeyboardInterrupt\u001B[0m: "
     ]
    }
   ],
   "source": [
    "# Compute negative log likelihood of the train/validation\n",
    "\n",
    "print(f\"train loss: {attention_model.dataset_loss(train_data, train_targets)}\")\n",
    "print(f\"validation loss: {attention_model.dataset_loss(validation_data, validation_targets)}\" )"
   ],
   "metadata": {
    "collapsed": false,
    "ExecuteTime": {
     "end_time": "2024-02-05T21:48:36.040866Z",
     "start_time": "2024-02-05T21:48:29.520287Z"
    }
   }
  },
  {
   "cell_type": "code",
   "execution_count": 15,
   "outputs": [
    {
     "name": "stdout",
     "output_type": "stream",
     "text": [
      "U hh ;aeehe\n",
      " oetfrsh mPsacen  ;sl Ewahue\n",
      "teewdish'u  arcoo ektav  eLt \n",
      "eer cb InChrwFuoe Unst nDsgCsIeHNsa:the \n",
      "paToh:  uhenuuenmgyeeraeryI euR w sPwrrbsw h mn.h\n",
      "ey etyb f ehiN zrcd hesposrme\n",
      " meyer?I\n",
      "itTeoo rs S  rewttenE m\n",
      ".ad fT DldT esyey\n",
      "sp:g,er,snBr, ebro TedsP aofNsetauyo.timhtoswcsot\n",
      "vitrifienasNgkucO,p n \n",
      ",rhhcnraeicnogtsao\n",
      "g n n byevecItsett eb\n",
      "\n",
      "iaA O\n",
      "keiii y e' m t unshfshbaw:hDpefigohnNs\n",
      "n\n",
      "or\n",
      "\n",
      "mrxrnwluia\n",
      "cwact tnerU eti nrs:Wi:Idtrq:vsa usiqn   odecoopCliauio lIabeu itef\n",
      "e e  t eI  vhvoeMolwip neRmt mlnsaDkNae.o h.ssveKimcl\n",
      "m tignusdpei hiieb-i\n",
      " D,aenry oenhoh ysi\n",
      ",trtau e\n",
      "nmuhWwl  emyhahr\n",
      "Aid:,crteRYrcddokDdu.e Atr tbseat\n",
      "n,etdeeFmkaye\n",
      "el.grn,hsesophtBFrhC mhdshy h 'ndt t seTiest\n",
      " st oyrttelT  enph \n",
      "e 'ymeede ttegtyo rsn-ayde he saaiat\n",
      ";s\n",
      " enSs n wehro ,iwimcrntIh-emlet.iuteS hfseIm ?lnoh\n",
      "sebian Sm-iehitohf\n",
      "betsehre unoy nruAiTg\n",
      "\n",
      " Tlo- oopd eia\n",
      "streih\n",
      " tueOh,m \n",
      "F o u:ot seIwui ictsio   wIwb,Iit\n",
      "edVj\n",
      "gearB slse'k ha doyttlt ;Iwdt swmuCmtI?fg bi\n",
      "es\n",
      "uae tkuCritpeo,hh oe \n",
      "tda \n"
     ]
    }
   ],
   "source": [
    "print(decoder(attention_model.generate(1000)))"
   ],
   "metadata": {
    "collapsed": false,
    "ExecuteTime": {
     "end_time": "2024-02-04T22:20:21.630583Z",
     "start_time": "2024-02-04T22:20:19.454872Z"
    }
   }
  },
  {
   "cell_type": "code",
   "execution_count": 9,
   "outputs": [
    {
     "data": {
      "text/plain": "(tensor([[43, 58,  1, 59, 57,  1, 49, 47, 50, 50]]), 'et us kill')"
     },
     "execution_count": 9,
     "metadata": {},
     "output_type": "execute_result"
    }
   ],
   "source": [
    "my_data = train_data[[306]]\n",
    "characters =  decoder(my_data[0].tolist())\n",
    "my_data, characters "
   ],
   "metadata": {
    "collapsed": false,
    "ExecuteTime": {
     "end_time": "2024-01-27T20:48:19.074808Z",
     "start_time": "2024-01-27T20:48:19.071432Z"
    }
   }
  },
  {
   "cell_type": "code",
   "outputs": [
    {
     "ename": "NameError",
     "evalue": "name 'my_data' is not defined",
     "output_type": "error",
     "traceback": [
      "\u001B[0;31m---------------------------------------------------------------------------\u001B[0m",
      "\u001B[0;31mNameError\u001B[0m                                 Traceback (most recent call last)",
      "Cell \u001B[0;32mIn[19], line 2\u001B[0m\n\u001B[1;32m      1\u001B[0m torch\u001B[38;5;241m.\u001B[39mset_printoptions(sci_mode\u001B[38;5;241m=\u001B[39m\u001B[38;5;28;01mFalse\u001B[39;00m)\n\u001B[0;32m----> 2\u001B[0m matrix \u001B[38;5;241m=\u001B[39m attention_model\u001B[38;5;241m.\u001B[39minspect_attention(\u001B[43mmy_data\u001B[49m)[\u001B[38;5;241m1\u001B[39m][\u001B[38;5;241m0\u001B[39m] \u001B[38;5;66;03m# this is the weight matrix\u001B[39;00m\n\u001B[1;32m      3\u001B[0m matrix\n\u001B[1;32m      4\u001B[0m \u001B[38;5;66;03m#    F i r\u001B[39;00m\n\u001B[1;32m      5\u001B[0m \u001B[38;5;66;03m# F  1 0 0\u001B[39;00m\n\u001B[1;32m      6\u001B[0m \u001B[38;5;66;03m# i  0 1 0\u001B[39;00m\n\u001B[1;32m      7\u001B[0m \u001B[38;5;66;03m# r  0 1 0\u001B[39;00m\n",
      "\u001B[0;31mNameError\u001B[0m: name 'my_data' is not defined"
     ]
    }
   ],
   "source": [
    "torch.set_printoptions(sci_mode=False)\n",
    "matrix = attention_model.inspect_attention(my_data)[1][0] # this is the weight matrix\n",
    "matrix\n",
    "#    F i r\n",
    "# F  1 0 0\n",
    "# i  0 1 0\n",
    "# r  0 1 0"
   ],
   "metadata": {
    "collapsed": false,
    "ExecuteTime": {
     "end_time": "2024-02-04T22:23:04.339141Z",
     "start_time": "2024-02-04T22:23:04.314184Z"
    }
   },
   "execution_count": 19
  },
  {
   "cell_type": "code",
   "outputs": [
    {
     "ename": "NameError",
     "evalue": "name 'matrix' is not defined",
     "output_type": "error",
     "traceback": [
      "\u001B[0;31m---------------------------------------------------------------------------\u001B[0m",
      "\u001B[0;31mNameError\u001B[0m                                 Traceback (most recent call last)",
      "Cell \u001B[0;32mIn[20], line 5\u001B[0m\n\u001B[1;32m      3\u001B[0m \u001B[38;5;66;03m# Create a heatmap\u001B[39;00m\n\u001B[1;32m      4\u001B[0m plt\u001B[38;5;241m.\u001B[39mfigure(figsize\u001B[38;5;241m=\u001B[39m(\u001B[38;5;241m10\u001B[39m, \u001B[38;5;241m8\u001B[39m))\n\u001B[0;32m----> 5\u001B[0m ax \u001B[38;5;241m=\u001B[39m sns\u001B[38;5;241m.\u001B[39mheatmap(\u001B[43mmatrix\u001B[49m\u001B[38;5;241m.\u001B[39mdetach()\u001B[38;5;241m.\u001B[39mnumpy(), annot\u001B[38;5;241m=\u001B[39m\u001B[38;5;28;01mTrue\u001B[39;00m, cmap\u001B[38;5;241m=\u001B[39m\u001B[38;5;124m'\u001B[39m\u001B[38;5;124mviridis\u001B[39m\u001B[38;5;124m'\u001B[39m, xticklabels\u001B[38;5;241m=\u001B[39mcharacters, yticklabels\u001B[38;5;241m=\u001B[39mcharacters, fmt\u001B[38;5;241m=\u001B[39m\u001B[38;5;124m'\u001B[39m\u001B[38;5;124m.3f\u001B[39m\u001B[38;5;124m'\u001B[39m)\n\u001B[1;32m      7\u001B[0m \u001B[38;5;66;03m# Move the x-axis to the top and set its label position\u001B[39;00m\n\u001B[1;32m      8\u001B[0m ax\u001B[38;5;241m.\u001B[39mxaxis\u001B[38;5;241m.\u001B[39mtick_top()\n",
      "\u001B[0;31mNameError\u001B[0m: name 'matrix' is not defined"
     ]
    },
    {
     "data": {
      "text/plain": "<Figure size 1000x800 with 0 Axes>"
     },
     "metadata": {},
     "output_type": "display_data"
    }
   ],
   "source": [
    "import seaborn as sns\n",
    "\n",
    "# Create a heatmap\n",
    "plt.figure(figsize=(10, 8))\n",
    "ax = sns.heatmap(matrix.detach().numpy(), annot=True, cmap='viridis', xticklabels=characters, yticklabels=characters, fmt='.3f')\n",
    "\n",
    "# Move the x-axis to the top and set its label position\n",
    "ax.xaxis.tick_top()\n",
    "ax.xaxis.set_label_position('top')\n",
    "\n",
    "# You can add title and labels as needed\n",
    "plt.title('Attention Matrix Visualization')\n",
    "plt.xlabel('Characters (columns)')\n",
    "plt.ylabel('Characters (rows)')\n",
    "\n",
    "plt.show()"
   ],
   "metadata": {
    "collapsed": false,
    "ExecuteTime": {
     "end_time": "2024-02-04T22:23:10.902610Z",
     "start_time": "2024-02-04T22:23:10.891220Z"
    }
   },
   "execution_count": 20
  },
  {
   "cell_type": "code",
   "outputs": [],
   "source": [],
   "metadata": {
    "collapsed": false
   }
  }
 ],
 "metadata": {
  "kernelspec": {
   "display_name": "Python 3",
   "language": "python",
   "name": "python3"
  },
  "language_info": {
   "codemirror_mode": {
    "name": "ipython",
    "version": 2
   },
   "file_extension": ".py",
   "mimetype": "text/x-python",
   "name": "python",
   "nbconvert_exporter": "python",
   "pygments_lexer": "ipython2",
   "version": "2.7.6"
  }
 },
 "nbformat": 4,
 "nbformat_minor": 0
}
