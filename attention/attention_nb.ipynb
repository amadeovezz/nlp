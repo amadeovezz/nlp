{
 "cells": [
  {
   "cell_type": "code",
   "execution_count": 6,
   "outputs": [],
   "source": [
    "# Third party\n",
    "import importlib\n",
    "import torch\n",
    "import matplotlib.pyplot as plt\n",
    "\n",
    "# User\n",
    "import base.abstract\n",
    "import base.mlp\n",
    "import base.train\n",
    "import base.encode\n",
    "import base.pre_process\n",
    "import model\n",
    "import attention\n",
    "\n",
    "importlib.reload(base.abstract)\n",
    "importlib.reload(base.mlp)\n",
    "importlib.reload(base.train)\n",
    "importlib.reload(base.encode)\n",
    "importlib.reload(base.pre_process)\n",
    "importlib.reload(base.norm)\n",
    "importlib.reload(model)\n",
    "importlib.reload(attention)\n",
    "\n",
    "from base.train import sgd\n",
    "from base.encode import get_encoder_decoder\n",
    "from base.mlp import LinearLayer, MLP\n",
    "from base.train import sgd\n",
    "from base.pre_process import get_dataset\n",
    "from model import Attention\n",
    "from attention import BatchedAttentionHead\n",
    "from encode import positional_encode"
   ],
   "metadata": {
    "collapsed": false,
    "ExecuteTime": {
     "end_time": "2024-01-12T22:17:15.945661Z",
     "start_time": "2024-01-12T22:17:15.937020Z"
    }
   }
  },
  {
   "cell_type": "code",
   "execution_count": 2,
   "outputs": [],
   "source": [
    "encoder, decoder = get_encoder_decoder(training_data=\"../data/shakespear.txt\", type='character')\n",
    "# let's now encode the entire text dataset and store it into a torch.Tensor\n",
    "with open(\"../data/shakespear.txt\", 'r', encoding='utf-8') as f:\n",
    "    text = f.read()\n",
    "text_encoded = torch.tensor(encoder(text), dtype=torch.long)\n",
    "unique_chars = sorted(list(set(text)))"
   ],
   "metadata": {
    "collapsed": false,
    "ExecuteTime": {
     "end_time": "2024-01-12T22:16:25.543076Z",
     "start_time": "2024-01-12T22:16:25.432546Z"
    }
   }
  },
  {
   "cell_type": "code",
   "execution_count": 3,
   "outputs": [
    {
     "data": {
      "text/plain": "(948085, 167309)"
     },
     "execution_count": 3,
     "metadata": {},
     "output_type": "execute_result"
    }
   ],
   "source": [
    "token_length = 3\n",
    "dataset =  get_dataset(text_encoded, 3, context_window=\"expanding\")\n",
    "train_data, train_targets = dataset[\"train\"]\n",
    "validation_data, validation_targets = dataset[\"validation\"]\n",
    "len(train_data), len(validation_data)"
   ],
   "metadata": {
    "collapsed": false,
    "ExecuteTime": {
     "end_time": "2024-01-12T22:16:30.539633Z",
     "start_time": "2024-01-12T22:16:26.500557Z"
    }
   }
  },
  {
   "cell_type": "code",
   "execution_count": 7,
   "outputs": [],
   "source": [
    "hp = {\n",
    "    \"init_learning_rate\": .1,\n",
    "    \"converging_learning_rate\": .01,\n",
    "    \"epochs\": 100000,\n",
    "    \"dim_of_embedding\": 2,\n",
    "    \"dim_of_attention_embedding\": 2,\n",
    "    \"num_layer_1_nodes\": 10,\n",
    "    \"mini_batch_size\": 3,\n",
    "    \"token_length\": 3,\n",
    "}\n",
    "\n",
    "params = {\n",
    "    \"num_of_unique_chars\": len(unique_chars),\n",
    "    \"positional_encoding_func\": positional_encode\n",
    "}\n",
    "\n",
    "l1 = LinearLayer(\n",
    "    num_of_inputs=hp['dim_of_attention_embedding'], #3x8x3 3x10 = 3x8x10\n",
    "    num_of_neurons=10,\n",
    "    append_pre_activation_layer=True,\n",
    "    activation_func=torch.tanh,\n",
    ")\n",
    "l2 = LinearLayer(\n",
    "    num_of_inputs=10,\n",
    "    num_of_neurons=len(unique_chars),\n",
    ")\n",
    "\n",
    "mlp_model = MLP(layers=[l1,l2])\n",
    "attention_model = Attention(hp, mlp_model, **params)\n"
   ],
   "metadata": {
    "collapsed": false,
    "ExecuteTime": {
     "end_time": "2024-01-12T22:17:18.510739Z",
     "start_time": "2024-01-12T22:17:17.727629Z"
    }
   }
  },
  {
   "cell_type": "code",
   "execution_count": 8,
   "outputs": [
    {
     "name": "stdout",
     "output_type": "stream",
     "text": [
      "epoch: 0 / 100000, loss: 5.8227\n",
      "epoch: 10000 / 100000, loss: 2.5403\n",
      "epoch: 20000 / 100000, loss: 2.6544\n",
      "epoch: 30000 / 100000, loss: 2.8888\n",
      "epoch: 40000 / 100000, loss: nan\n",
      "epoch: 50000 / 100000, loss: nan\n",
      "epoch: 60000 / 100000, loss: nan\n",
      "epoch: 70000 / 100000, loss: nan\n",
      "epoch: 80000 / 100000, loss: nan\n",
      "epoch: 90000 / 100000, loss: nan\n"
     ]
    }
   ],
   "source": [
    "attention_model.require_grad()\n",
    "loss_list = []\n",
    "sgd(hp\n",
    "    , attention_model\n",
    "    , training_inputs=train_data\n",
    "    , training_targets=train_targets\n",
    "    , loss_list=loss_list\n",
    ")\n"
   ],
   "metadata": {
    "collapsed": false,
    "ExecuteTime": {
     "end_time": "2024-01-12T22:18:02.888889Z",
     "start_time": "2024-01-12T22:17:21.272305Z"
    }
   }
  },
  {
   "cell_type": "code",
   "execution_count": 11,
   "outputs": [
    {
     "data": {
      "text/plain": "[<matplotlib.lines.Line2D at 0x171cd8a00>]"
     },
     "execution_count": 11,
     "metadata": {},
     "output_type": "execute_result"
    },
    {
     "data": {
      "text/plain": "<Figure size 640x480 with 1 Axes>",
      "image/png": "[encoded data removed]"
     },
     "metadata": {},
     "output_type": "display_data"
    }
   ],
   "source": [
    "plt.plot(loss_list)\n"
   ],
   "metadata": {
    "collapsed": false,
    "ExecuteTime": {
     "end_time": "2024-01-12T20:00:24.038002Z",
     "start_time": "2024-01-12T20:00:23.837818Z"
    }
   }
  },
  {
   "cell_type": "code",
   "execution_count": 9,
   "outputs": [
    {
     "name": "stdout",
     "output_type": "stream",
     "text": [
      "train loss: 2.687907058151861\n",
      "validation loss: 2.6861607010568904\n"
     ]
    }
   ],
   "source": [
    "# Compute negative log likelihood of the train/validation\n",
    "\n",
    "print(f\"train loss: {attention_model.dataset_loss(train_data, train_targets)}\")\n",
    "print(f\"validation loss: {attention_model.dataset_loss(validation_data, validation_targets)}\" )"
   ],
   "metadata": {
    "collapsed": false,
    "ExecuteTime": {
     "end_time": "2024-01-12T20:00:15.904992Z",
     "start_time": "2024-01-12T20:00:13.716759Z"
    }
   }
  },
  {
   "cell_type": "code",
   "execution_count": 10,
   "outputs": [
    {
     "data": {
      "text/plain": "\"\\n\\nOT tetotottor?\\nU\\nN\\n\\nTR\\nU\\n ibh t  g hh u,o atho isoekaoiish eoueee'eoeas  pu; snanh ,  o.aw cr soa   s oatifm r f nivoat !dht dheo a ih enl. .  ,T,\\nidotatlodtrnfdan kau i  \\nsst s    oo l  poet; i?d d\""
     },
     "execution_count": 10,
     "metadata": {},
     "output_type": "execute_result"
    }
   ],
   "source": [
    "decoder(attention_model.generate(200))"
   ],
   "metadata": {
    "collapsed": false,
    "ExecuteTime": {
     "end_time": "2024-01-12T20:00:17.649454Z",
     "start_time": "2024-01-12T20:00:17.612290Z"
    }
   }
  },
  {
   "cell_type": "code",
   "execution_count": null,
   "outputs": [],
   "source": [],
   "metadata": {
    "collapsed": false
   }
  }
 ],
 "metadata": {
  "kernelspec": {
   "display_name": "Python 3",
   "language": "python",
   "name": "python3"
  },
  "language_info": {
   "codemirror_mode": {
    "name": "ipython",
    "version": 2
   },
   "file_extension": ".py",
   "mimetype": "text/x-python",
   "name": "python",
   "nbconvert_exporter": "python",
   "pygments_lexer": "ipython2",
   "version": "2.7.6"
  }
 },
 "nbformat": 4,
 "nbformat_minor": 0
}
