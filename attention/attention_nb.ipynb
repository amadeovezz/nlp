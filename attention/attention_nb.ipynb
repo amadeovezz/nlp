{
 "cells": [
  {
   "cell_type": "code",
   "execution_count": 89,
   "outputs": [],
   "source": [
    "# Third party\n",
    "import importlib\n",
    "import torch\n",
    "import matplotlib.pyplot as plt\n",
    "\n",
    "# User\n",
    "import base.abstract\n",
    "import base.mlp\n",
    "import base.train\n",
    "import base.encode\n",
    "import base.pre_process\n",
    "import model\n",
    "import attention\n",
    "\n",
    "importlib.reload(base.abstract)\n",
    "importlib.reload(base.mlp)\n",
    "importlib.reload(base.train)\n",
    "importlib.reload(base.encode)\n",
    "importlib.reload(base.pre_process)\n",
    "importlib.reload(base.norm)\n",
    "importlib.reload(model)\n",
    "importlib.reload(attention)\n",
    "\n",
    "from base.train import sgd\n",
    "from base.encode import get_encoder_decoder\n",
    "from base.mlp import LinearLayer, MLP\n",
    "from base.train import sgd\n",
    "from base.pre_process import get_dataset\n",
    "from model import Attention\n",
    "from attention import BatchedAttentionHead\n",
    "from encode import positional_encode"
   ],
   "metadata": {
    "collapsed": false,
    "ExecuteTime": {
     "end_time": "2024-01-15T22:08:26.165528Z",
     "start_time": "2024-01-15T22:08:26.158595Z"
    }
   }
  },
  {
   "cell_type": "code",
   "execution_count": 90,
   "outputs": [],
   "source": [
    "encoder, decoder = get_encoder_decoder(training_data=\"../data/shakespear.txt\", type='character')\n",
    "# let's now encode the entire text dataset and store it into a torch.Tensor\n",
    "with open(\"../data/shakespear.txt\", 'r', encoding='utf-8') as f:\n",
    "    text = f.read()\n",
    "text_encoded = torch.tensor(encoder(text), dtype=torch.long)\n",
    "unique_chars = sorted(list(set(text)))"
   ],
   "metadata": {
    "collapsed": false,
    "ExecuteTime": {
     "end_time": "2024-01-15T22:08:26.996774Z",
     "start_time": "2024-01-15T22:08:26.880935Z"
    }
   }
  },
  {
   "cell_type": "code",
   "execution_count": 91,
   "outputs": [
    {
     "data": {
      "text/plain": "(948085, 167309)"
     },
     "execution_count": 91,
     "metadata": {},
     "output_type": "execute_result"
    }
   ],
   "source": [
    "token_length = 3\n",
    "dataset =  get_dataset(text_encoded, 3, context_window=\"expanding\")\n",
    "train_data, train_targets = dataset[\"train\"]\n",
    "validation_data, validation_targets = dataset[\"validation\"]\n",
    "len(train_data), len(validation_data)"
   ],
   "metadata": {
    "collapsed": false,
    "ExecuteTime": {
     "end_time": "2024-01-15T22:08:34.614198Z",
     "start_time": "2024-01-15T22:08:27.936231Z"
    }
   }
  },
  {
   "cell_type": "code",
   "execution_count": 102,
   "outputs": [],
   "source": [
    "hp = {\n",
    "    \"init_learning_rate\": .1,\n",
    "    \"converging_learning_rate\": .01,\n",
    "    \"epochs\": 100000,\n",
    "    \"dim_of_embedding\": 2,\n",
    "    \"dim_of_attention_embedding\": 2,\n",
    "    \"num_layer_1_nodes\": 10,\n",
    "    \"mini_batch_size\": 3,\n",
    "    \"token_length\": 3,\n",
    "}\n",
    "\n",
    "params = {\n",
    "    \"num_of_unique_chars\": len(unique_chars),\n",
    "    \"positional_encoding_func\": positional_encode,\n",
    "    \"attention_block_type\": \"decoder\"\n",
    "}\n",
    "\n",
    "l1 = LinearLayer(\n",
    "    num_of_inputs=hp['dim_of_attention_embedding'], #3x8x3 3x10 = 3x8x10\n",
    "    num_of_neurons=10,\n",
    "    append_pre_activation_layer=True,\n",
    "    activation_func=torch.tanh,\n",
    ")\n",
    "l2 = LinearLayer(\n",
    "    num_of_inputs=10,\n",
    "    num_of_neurons=len(unique_chars),\n",
    ")\n",
    "\n",
    "mlp_model = MLP(layers=[l1,l2])\n",
    "attention_model = Attention(hp, mlp_model, **params)\n"
   ],
   "metadata": {
    "collapsed": false,
    "ExecuteTime": {
     "end_time": "2024-01-15T22:11:07.556210Z",
     "start_time": "2024-01-15T22:11:07.551818Z"
    }
   }
  },
  {
   "cell_type": "code",
   "execution_count": 103,
   "outputs": [
    {
     "name": "stdout",
     "output_type": "stream",
     "text": [
      "epoch: 0 / 400000, loss: 8.5290\n",
      "epoch: 10000 / 400000, loss: 3.4277\n",
      "epoch: 20000 / 400000, loss: 2.6943\n",
      "epoch: 30000 / 400000, loss: 2.6758\n",
      "epoch: 40000 / 400000, loss: 3.1273\n",
      "epoch: 50000 / 400000, loss: 2.9559\n",
      "epoch: 60000 / 400000, loss: 2.4662\n",
      "epoch: 70000 / 400000, loss: 2.4653\n",
      "epoch: 80000 / 400000, loss: 2.4513\n",
      "epoch: 90000 / 400000, loss: 3.6024\n",
      "epoch: 100000 / 400000, loss: 2.4351\n",
      "epoch: 110000 / 400000, loss: 3.0269\n",
      "epoch: 120000 / 400000, loss: 2.5417\n",
      "epoch: 130000 / 400000, loss: 2.6953\n",
      "epoch: 140000 / 400000, loss: 2.9939\n",
      "epoch: 150000 / 400000, loss: 3.3061\n",
      "epoch: 160000 / 400000, loss: 2.6050\n",
      "epoch: 170000 / 400000, loss: 2.9127\n",
      "epoch: 180000 / 400000, loss: 2.5607\n",
      "epoch: 190000 / 400000, loss: 2.2540\n",
      "epoch: 200000 / 400000, loss: 2.8417\n",
      "epoch: 210000 / 400000, loss: 2.6318\n",
      "epoch: 220000 / 400000, loss: 3.2501\n",
      "epoch: 230000 / 400000, loss: 2.4245\n",
      "epoch: 240000 / 400000, loss: 3.0722\n",
      "epoch: 250000 / 400000, loss: 2.4913\n",
      "epoch: 260000 / 400000, loss: 3.1025\n",
      "epoch: 270000 / 400000, loss: 2.0985\n",
      "epoch: 280000 / 400000, loss: 3.1532\n",
      "epoch: 290000 / 400000, loss: 2.6599\n",
      "epoch: 300000 / 400000, loss: 2.8770\n",
      "epoch: 310000 / 400000, loss: 2.5225\n",
      "epoch: 320000 / 400000, loss: 3.4670\n",
      "epoch: 330000 / 400000, loss: 3.0361\n",
      "epoch: 340000 / 400000, loss: 2.5738\n",
      "epoch: 350000 / 400000, loss: 3.1590\n",
      "epoch: 360000 / 400000, loss: 2.8724\n",
      "epoch: 370000 / 400000, loss: 2.8703\n",
      "epoch: 380000 / 400000, loss: 2.4148\n",
      "epoch: 390000 / 400000, loss: 3.3144\n"
     ]
    }
   ],
   "source": [
    "attention_model.require_grad()\n",
    "loss_list = []\n",
    "sgd(hp\n",
    "    , attention_model\n",
    "    , training_inputs=train_data\n",
    "    , training_targets=train_targets\n",
    "    , loss_list=loss_list\n",
    ")\n"
   ],
   "metadata": {
    "collapsed": false,
    "ExecuteTime": {
     "end_time": "2024-01-15T22:13:52.715336Z",
     "start_time": "2024-01-15T22:11:09.201183Z"
    }
   }
  },
  {
   "cell_type": "code",
   "execution_count": 104,
   "outputs": [
    {
     "data": {
      "text/plain": "[<matplotlib.lines.Line2D at 0x2a4281940>]"
     },
     "execution_count": 104,
     "metadata": {},
     "output_type": "execute_result"
    },
    {
     "data": {
      "text/plain": "<Figure size 640x480 with 1 Axes>",
      "image/png": "[encoded data removed]"
     },
     "metadata": {},
     "output_type": "display_data"
    }
   ],
   "source": [
    "plt.plot(loss_list)\n"
   ],
   "metadata": {
    "collapsed": false,
    "ExecuteTime": {
     "end_time": "2024-01-15T22:19:01.706342Z",
     "start_time": "2024-01-15T22:19:01.445216Z"
    }
   }
  },
  {
   "cell_type": "code",
   "execution_count": 105,
   "outputs": [
    {
     "name": "stdout",
     "output_type": "stream",
     "text": [
      "train loss: 2.8117619090825117\n",
      "validation loss: 2.825815765519993\n"
     ]
    }
   ],
   "source": [
    "# Compute negative log likelihood of the train/validation\n",
    "\n",
    "print(f\"train loss: {attention_model.dataset_loss(train_data, train_targets)}\")\n",
    "print(f\"validation loss: {attention_model.dataset_loss(validation_data, validation_targets)}\" )"
   ],
   "metadata": {
    "collapsed": false,
    "ExecuteTime": {
     "end_time": "2024-01-15T22:19:09.045277Z",
     "start_time": "2024-01-15T22:19:07.318162Z"
    }
   }
  },
  {
   "cell_type": "code",
   "execution_count": 106,
   "outputs": [
    {
     "data": {
      "text/plain": "\"GDUICCimsrind s F, t teag tshy alakawe gitthid oome\\nVTheasrvad oan\\nAot miwy,e 's YAIMi e  te  ld lf et  INwyeeadrs t b s tuorl.ot, ibove\\nS tgce e sasainun y be \\nIs.Fau danovdomouhers,\\nz owaeb rila:pha\""
     },
     "execution_count": 106,
     "metadata": {},
     "output_type": "execute_result"
    }
   ],
   "source": [
    "decoder(attention_model.generate(200))"
   ],
   "metadata": {
    "collapsed": false,
    "ExecuteTime": {
     "end_time": "2024-01-15T22:19:11.058426Z",
     "start_time": "2024-01-15T22:19:11.018700Z"
    }
   }
  },
  {
   "cell_type": "code",
   "execution_count": null,
   "outputs": [],
   "source": [],
   "metadata": {
    "collapsed": false
   }
  }
 ],
 "metadata": {
  "kernelspec": {
   "display_name": "Python 3",
   "language": "python",
   "name": "python3"
  },
  "language_info": {
   "codemirror_mode": {
    "name": "ipython",
    "version": 2
   },
   "file_extension": ".py",
   "mimetype": "text/x-python",
   "name": "python",
   "nbconvert_exporter": "python",
   "pygments_lexer": "ipython2",
   "version": "2.7.6"
  }
 },
 "nbformat": 4,
 "nbformat_minor": 0
}
