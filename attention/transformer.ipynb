{
 "cells": [
  {
   "cell_type": "code",
   "execution_count": 6,
   "outputs": [],
   "source": [
    "# Third party\n",
    "import importlib\n",
    "import torch\n",
    "import matplotlib.pyplot as plt\n",
    "\n",
    "# User\n",
    "import base.abstract\n",
    "import base.mlp\n",
    "import base.train\n",
    "import base.encode\n",
    "import base.pre_process\n",
    "import model\n",
    "import attention\n",
    "\n",
    "importlib.reload(base.abstract)\n",
    "importlib.reload(base.mlp)\n",
    "importlib.reload(base.train)\n",
    "importlib.reload(base.encode)\n",
    "importlib.reload(base.pre_process)\n",
    "importlib.reload(base.norm)\n",
    "importlib.reload(model)\n",
    "importlib.reload(attention)\n",
    "\n",
    "from base.train import sgd\n",
    "from base.encode import get_encoder_decoder\n",
    "from base.mlp import LinearLayer, MLP\n",
    "from base.train import sgd\n",
    "from base.pre_process import get_dataset\n",
    "from model import SimpleTransformer, Transformer\n",
    "from attention import BatchedSelfAttentionHead\n",
    "from encode import positional_encode"
   ],
   "metadata": {
    "collapsed": false,
    "ExecuteTime": {
     "end_time": "2024-02-07T18:53:09.748391Z",
     "start_time": "2024-02-07T18:53:09.740939Z"
    }
   }
  },
  {
   "cell_type": "code",
   "execution_count": 7,
   "outputs": [],
   "source": [
    "encoder, decoder = get_encoder_decoder(training_data=\"../data/shakespear.txt\", type='character')\n",
    "# let's now encode the entire text dataset and store it into a torch.Tensor\n",
    "with open(\"../data/shakespear.txt\", 'r', encoding='utf-8') as f:\n",
    "    text = f.read()\n",
    "text_encoded = torch.tensor(encoder(text), dtype=torch.long)\n",
    "unique_chars = sorted(list(set(text)))"
   ],
   "metadata": {
    "collapsed": false,
    "ExecuteTime": {
     "end_time": "2024-02-07T18:53:10.634171Z",
     "start_time": "2024-02-07T18:53:10.527908Z"
    }
   }
  },
  {
   "cell_type": "code",
   "execution_count": 8,
   "outputs": [
    {
     "data": {
      "text/plain": "(948085, 167309)"
     },
     "execution_count": 8,
     "metadata": {},
     "output_type": "execute_result"
    }
   ],
   "source": [
    "token_length = 32\n",
    "dataset =  get_dataset(text_encoded, token_length, context_window=\"expanding\")\n",
    "train_data, train_targets = dataset[\"train\"]\n",
    "validation_data, validation_targets = dataset[\"validation\"]\n",
    "len(train_data), len(validation_data)\n"
   ],
   "metadata": {
    "collapsed": false,
    "ExecuteTime": {
     "end_time": "2024-02-07T18:53:36.585177Z",
     "start_time": "2024-02-07T18:53:14.849584Z"
    }
   }
  },
  {
   "cell_type": "code",
   "outputs": [],
   "source": [
    "\n",
    "g = torch.Generator().manual_seed(2147483647)\n",
    "\n",
    "hp = {\n",
    "    \"init_learning_rate\": .001,\n",
    "    \"converging_learning_rate\": .01,\n",
    "    \"epochs\": 10000,\n",
    "    \"epochs_log_interval\": 100,\n",
    "    \"dim_of_embedding\": 64,\n",
    "    \"num_of_attention_heads\": 4,\n",
    "    \"num_of_attention_blocks\": 4,\n",
    "    \"num_layer_1_nodes\": 15,\n",
    "    \"mini_batch_size\": 32,\n",
    "    \"token_length\": token_length,\n",
    "}\n",
    "\n",
    "params = {\n",
    "    \"num_of_unique_chars\": len(unique_chars),\n",
    "    \"positional_encoding_func\": positional_encode,\n",
    "    \"attention_block_type\": \"decoder\"\n",
    "}\n",
    "\n",
    "l1 = LinearLayer(\n",
    "    num_of_inputs=hp['dim_of_embedding'], #3x8x3 3x10 = 3x8x10\n",
    "    num_of_neurons=hp[\"num_layer_1_nodes\"],\n",
    "    append_pre_activation_layer=True,\n",
    "    activation_func=torch.tanh,\n",
    "    generator=g\n",
    ")\n",
    "l2 = LinearLayer(\n",
    "    num_of_inputs=hp[\"num_layer_1_nodes\"],\n",
    "    num_of_neurons=hp[\"dim_of_embedding\"],\n",
    "    activation_func=torch.tanh,\n",
    "    generator=g\n",
    ")\n",
    "\n",
    "mlp_model = MLP(layers=[l1,l2])\n",
    "attention_model = Transformer(hp, mlp_model, generator=g,**params)\n",
    "\n"
   ],
   "metadata": {
    "collapsed": false,
    "ExecuteTime": {
     "end_time": "2024-02-07T18:53:36.591334Z",
     "start_time": "2024-02-07T18:53:36.586434Z"
    }
   },
   "execution_count": 9
  },
  {
   "cell_type": "code",
   "outputs": [
    {
     "ename": "KeyboardInterrupt",
     "evalue": "",
     "output_type": "error",
     "traceback": [
      "\u001B[0;31m---------------------------------------------------------------------------\u001B[0m",
      "\u001B[0;31mKeyboardInterrupt\u001B[0m                         Traceback (most recent call last)",
      "Cell \u001B[0;32mIn[100], line 2\u001B[0m\n\u001B[1;32m      1\u001B[0m t \u001B[38;5;241m=\u001B[39m train_data[[\u001B[38;5;241m4\u001B[39m,\u001B[38;5;241m5\u001B[39m]]\n\u001B[0;32m----> 2\u001B[0m \u001B[43mattention_model\u001B[49m\u001B[38;5;241;43m.\u001B[39;49m\u001B[43mforward\u001B[49m\u001B[43m(\u001B[49m\u001B[43mt\u001B[49m\u001B[43m)\u001B[49m\n",
      "File \u001B[0;32m~/Dev/nlp/attention/model.py:252\u001B[0m, in \u001B[0;36mTransformer.forward\u001B[0;34m(self, inputs_idx)\u001B[0m\n\u001B[1;32m    249\u001B[0m mlp_out \u001B[38;5;241m=\u001B[39m \u001B[38;5;28mself\u001B[39m\u001B[38;5;241m.\u001B[39mmlp\u001B[38;5;241m.\u001B[39mforward(add_norm_embedding)\n\u001B[1;32m    251\u001B[0m \u001B[38;5;66;03m# residual connection + layer norm\u001B[39;00m\n\u001B[0;32m--> 252\u001B[0m add_norm_mlp_out \u001B[38;5;241m=\u001B[39m \u001B[38;5;28;43mself\u001B[39;49m\u001B[38;5;241m.\u001B[39mlayer_norm_2(add_norm_embedding \u001B[38;5;241m+\u001B[39m mlp_out)\n\u001B[1;32m    254\u001B[0m \u001B[38;5;66;03m# set the out embedding from the previous block as input to the next attention block\u001B[39;00m\n\u001B[1;32m    255\u001B[0m embedding \u001B[38;5;241m=\u001B[39m add_norm_mlp_out\n",
      "File \u001B[0;32m~/Dev/nlp/attention/model.py:252\u001B[0m, in \u001B[0;36mTransformer.forward\u001B[0;34m(self, inputs_idx)\u001B[0m\n\u001B[1;32m    249\u001B[0m mlp_out \u001B[38;5;241m=\u001B[39m \u001B[38;5;28mself\u001B[39m\u001B[38;5;241m.\u001B[39mmlp\u001B[38;5;241m.\u001B[39mforward(add_norm_embedding)\n\u001B[1;32m    251\u001B[0m \u001B[38;5;66;03m# residual connection + layer norm\u001B[39;00m\n\u001B[0;32m--> 252\u001B[0m add_norm_mlp_out \u001B[38;5;241m=\u001B[39m \u001B[38;5;28;43mself\u001B[39;49m\u001B[38;5;241m.\u001B[39mlayer_norm_2(add_norm_embedding \u001B[38;5;241m+\u001B[39m mlp_out)\n\u001B[1;32m    254\u001B[0m \u001B[38;5;66;03m# set the out embedding from the previous block as input to the next attention block\u001B[39;00m\n\u001B[1;32m    255\u001B[0m embedding \u001B[38;5;241m=\u001B[39m add_norm_mlp_out\n",
      "File \u001B[0;32m_pydevd_bundle/pydevd_cython_darwin_39_64.pyx:1187\u001B[0m, in \u001B[0;36m_pydevd_bundle.pydevd_cython_darwin_39_64.SafeCallWrapper.__call__\u001B[0;34m()\u001B[0m\n",
      "File \u001B[0;32m_pydevd_bundle/pydevd_cython_darwin_39_64.pyx:627\u001B[0m, in \u001B[0;36m_pydevd_bundle.pydevd_cython_darwin_39_64.PyDBFrame.trace_dispatch\u001B[0;34m()\u001B[0m\n",
      "File \u001B[0;32m_pydevd_bundle/pydevd_cython_darwin_39_64.pyx:1103\u001B[0m, in \u001B[0;36m_pydevd_bundle.pydevd_cython_darwin_39_64.PyDBFrame.trace_dispatch\u001B[0;34m()\u001B[0m\n",
      "File \u001B[0;32m_pydevd_bundle/pydevd_cython_darwin_39_64.pyx:1065\u001B[0m, in \u001B[0;36m_pydevd_bundle.pydevd_cython_darwin_39_64.PyDBFrame.trace_dispatch\u001B[0;34m()\u001B[0m\n",
      "File \u001B[0;32m_pydevd_bundle/pydevd_cython_darwin_39_64.pyx:585\u001B[0m, in \u001B[0;36m_pydevd_bundle.pydevd_cython_darwin_39_64.PyDBFrame.do_wait_suspend\u001B[0;34m()\u001B[0m\n",
      "File \u001B[0;32m/Applications/PyCharm.app/Contents/plugins/python/helpers/pydev/pydevd.py:1184\u001B[0m, in \u001B[0;36mPyDB.do_wait_suspend\u001B[0;34m(self, thread, frame, event, arg, send_suspend_message, is_unhandled_exception)\u001B[0m\n\u001B[1;32m   1181\u001B[0m         from_this_thread\u001B[38;5;241m.\u001B[39mappend(frame_id)\n\u001B[1;32m   1183\u001B[0m \u001B[38;5;28;01mwith\u001B[39;00m \u001B[38;5;28mself\u001B[39m\u001B[38;5;241m.\u001B[39m_threads_suspended_single_notification\u001B[38;5;241m.\u001B[39mnotify_thread_suspended(thread_id, stop_reason):\n\u001B[0;32m-> 1184\u001B[0m     \u001B[38;5;28;43mself\u001B[39;49m\u001B[38;5;241;43m.\u001B[39;49m\u001B[43m_do_wait_suspend\u001B[49m\u001B[43m(\u001B[49m\u001B[43mthread\u001B[49m\u001B[43m,\u001B[49m\u001B[43m \u001B[49m\u001B[43mframe\u001B[49m\u001B[43m,\u001B[49m\u001B[43m \u001B[49m\u001B[43mevent\u001B[49m\u001B[43m,\u001B[49m\u001B[43m \u001B[49m\u001B[43marg\u001B[49m\u001B[43m,\u001B[49m\u001B[43m \u001B[49m\u001B[43msuspend_type\u001B[49m\u001B[43m,\u001B[49m\u001B[43m \u001B[49m\u001B[43mfrom_this_thread\u001B[49m\u001B[43m)\u001B[49m\n",
      "File \u001B[0;32m/Applications/PyCharm.app/Contents/plugins/python/helpers/pydev/pydevd.py:1199\u001B[0m, in \u001B[0;36mPyDB._do_wait_suspend\u001B[0;34m(self, thread, frame, event, arg, suspend_type, from_this_thread)\u001B[0m\n\u001B[1;32m   1196\u001B[0m             \u001B[38;5;28mself\u001B[39m\u001B[38;5;241m.\u001B[39m_call_mpl_hook()\n\u001B[1;32m   1198\u001B[0m         \u001B[38;5;28mself\u001B[39m\u001B[38;5;241m.\u001B[39mprocess_internal_commands()\n\u001B[0;32m-> 1199\u001B[0m         \u001B[43mtime\u001B[49m\u001B[38;5;241;43m.\u001B[39;49m\u001B[43msleep\u001B[49m\u001B[43m(\u001B[49m\u001B[38;5;241;43m0.01\u001B[39;49m\u001B[43m)\u001B[49m\n\u001B[1;32m   1201\u001B[0m \u001B[38;5;28mself\u001B[39m\u001B[38;5;241m.\u001B[39mcancel_async_evaluation(get_current_thread_id(thread), \u001B[38;5;28mstr\u001B[39m(\u001B[38;5;28mid\u001B[39m(frame)))\n\u001B[1;32m   1203\u001B[0m \u001B[38;5;66;03m# process any stepping instructions\u001B[39;00m\n",
      "\u001B[0;31mKeyboardInterrupt\u001B[0m: "
     ]
    }
   ],
   "source": [
    "# t = train_data[[4,5]]\n",
    "# attention_model.forward(t)"
   ],
   "metadata": {
    "collapsed": false,
    "ExecuteTime": {
     "end_time": "2024-02-03T20:24:50.977979Z",
     "start_time": "2024-02-03T19:53:18.366882Z"
    }
   },
   "execution_count": 114
  },
  {
   "cell_type": "code",
   "execution_count": 10,
   "outputs": [
    {
     "name": "stdout",
     "output_type": "stream",
     "text": [
      "epoch: 0 / 10000, loss: 17.7932\n",
      "epoch: 100 / 10000, loss: 13.8573\n",
      "epoch: 200 / 10000, loss: 10.3830\n",
      "epoch: 300 / 10000, loss: 8.3898\n",
      "epoch: 400 / 10000, loss: 7.6782\n",
      "epoch: 500 / 10000, loss: 7.8656\n",
      "epoch: 600 / 10000, loss: 7.0717\n",
      "epoch: 700 / 10000, loss: 6.6813\n",
      "epoch: 800 / 10000, loss: 6.4525\n",
      "epoch: 900 / 10000, loss: 6.1564\n",
      "epoch: 1000 / 10000, loss: 5.7388\n",
      "epoch: 1100 / 10000, loss: 5.5362\n",
      "epoch: 1200 / 10000, loss: 5.3696\n",
      "epoch: 1300 / 10000, loss: 4.8910\n",
      "epoch: 1400 / 10000, loss: 4.9397\n",
      "epoch: 1500 / 10000, loss: 4.7974\n",
      "epoch: 1600 / 10000, loss: 4.6554\n",
      "epoch: 1700 / 10000, loss: 4.6817\n",
      "epoch: 1800 / 10000, loss: 4.3965\n",
      "epoch: 1900 / 10000, loss: 4.3086\n",
      "epoch: 2000 / 10000, loss: 4.3086\n",
      "epoch: 2100 / 10000, loss: 4.2765\n",
      "epoch: 2200 / 10000, loss: 4.1606\n",
      "epoch: 2300 / 10000, loss: 4.1831\n",
      "epoch: 2400 / 10000, loss: 4.1096\n",
      "epoch: 2500 / 10000, loss: 3.9626\n",
      "epoch: 2600 / 10000, loss: 4.0596\n",
      "epoch: 2700 / 10000, loss: 3.9601\n",
      "epoch: 2800 / 10000, loss: 3.9352\n",
      "epoch: 2900 / 10000, loss: 3.9072\n",
      "epoch: 3000 / 10000, loss: 3.9003\n",
      "epoch: 3100 / 10000, loss: 3.8449\n",
      "epoch: 3200 / 10000, loss: 3.8037\n",
      "epoch: 3300 / 10000, loss: 3.7932\n",
      "epoch: 3400 / 10000, loss: 3.8699\n",
      "epoch: 3500 / 10000, loss: 3.8027\n",
      "epoch: 3600 / 10000, loss: 3.8708\n",
      "epoch: 3700 / 10000, loss: 3.7034\n",
      "epoch: 3800 / 10000, loss: 3.7916\n",
      "epoch: 3900 / 10000, loss: 3.8501\n",
      "epoch: 4000 / 10000, loss: 3.9170\n",
      "epoch: 4100 / 10000, loss: 3.8393\n",
      "epoch: 4200 / 10000, loss: 3.8004\n",
      "epoch: 4300 / 10000, loss: 3.6219\n",
      "epoch: 4400 / 10000, loss: 3.6742\n",
      "epoch: 4500 / 10000, loss: 3.5298\n",
      "epoch: 4600 / 10000, loss: 3.5507\n",
      "epoch: 4700 / 10000, loss: 3.5900\n",
      "epoch: 4800 / 10000, loss: 3.6647\n",
      "epoch: 4900 / 10000, loss: 3.5228\n",
      "epoch: 5000 / 10000, loss: 3.5432\n",
      "epoch: 5100 / 10000, loss: 3.4914\n",
      "epoch: 5200 / 10000, loss: 3.5422\n",
      "epoch: 5300 / 10000, loss: 3.5957\n",
      "epoch: 5400 / 10000, loss: 3.6005\n",
      "epoch: 5500 / 10000, loss: 3.4319\n",
      "epoch: 5600 / 10000, loss: 3.6453\n",
      "epoch: 5700 / 10000, loss: 3.5331\n",
      "epoch: 5800 / 10000, loss: 3.5474\n",
      "epoch: 5900 / 10000, loss: 3.4707\n",
      "epoch: 6000 / 10000, loss: 3.5516\n",
      "epoch: 6100 / 10000, loss: 3.4955\n",
      "epoch: 6200 / 10000, loss: 3.5158\n",
      "epoch: 6300 / 10000, loss: 3.4794\n",
      "epoch: 6400 / 10000, loss: 3.5843\n",
      "epoch: 6500 / 10000, loss: 3.5147\n",
      "epoch: 6600 / 10000, loss: 3.3692\n",
      "epoch: 6700 / 10000, loss: 3.5495\n",
      "epoch: 6800 / 10000, loss: 3.4717\n",
      "epoch: 6900 / 10000, loss: 3.4468\n",
      "epoch: 7000 / 10000, loss: 3.5392\n",
      "epoch: 7100 / 10000, loss: 3.5530\n",
      "epoch: 7200 / 10000, loss: 3.4334\n",
      "epoch: 7300 / 10000, loss: 3.5231\n",
      "epoch: 7400 / 10000, loss: 3.4200\n",
      "epoch: 7500 / 10000, loss: 3.4502\n",
      "epoch: 7600 / 10000, loss: 3.4996\n",
      "epoch: 7700 / 10000, loss: 3.4100\n",
      "epoch: 7800 / 10000, loss: 3.3923\n",
      "epoch: 7900 / 10000, loss: 3.3474\n",
      "epoch: 8000 / 10000, loss: 3.5307\n",
      "epoch: 8100 / 10000, loss: 3.5017\n",
      "epoch: 8200 / 10000, loss: 3.4276\n",
      "epoch: 8300 / 10000, loss: 3.3980\n",
      "epoch: 8400 / 10000, loss: 3.5612\n",
      "epoch: 8500 / 10000, loss: 3.4607\n",
      "epoch: 8600 / 10000, loss: 3.4379\n",
      "epoch: 8700 / 10000, loss: 3.3810\n",
      "epoch: 8800 / 10000, loss: 3.5285\n",
      "epoch: 8900 / 10000, loss: 3.3686\n",
      "epoch: 9000 / 10000, loss: 3.4685\n",
      "epoch: 9100 / 10000, loss: 3.3400\n",
      "epoch: 9200 / 10000, loss: 3.3446\n",
      "epoch: 9300 / 10000, loss: 3.4570\n",
      "epoch: 9400 / 10000, loss: 3.4469\n",
      "epoch: 9500 / 10000, loss: 3.4189\n",
      "epoch: 9600 / 10000, loss: 3.4096\n",
      "epoch: 9700 / 10000, loss: 3.3192\n",
      "epoch: 9800 / 10000, loss: 3.3549\n",
      "epoch: 9900 / 10000, loss: 3.3815\n"
     ]
    }
   ],
   "source": [
    "attention_model.require_grad()\n",
    "loss_list = []\n",
    "sgd(hp\n",
    "    , attention_model\n",
    "    , training_inputs=train_data\n",
    "    , training_targets=train_targets\n",
    "    , loss_list=loss_list\n",
    ")\n"
   ],
   "metadata": {
    "collapsed": false,
    "ExecuteTime": {
     "end_time": "2024-02-07T18:58:21.424Z",
     "start_time": "2024-02-07T18:53:40.443262Z"
    }
   }
  },
  {
   "cell_type": "code",
   "execution_count": 11,
   "outputs": [
    {
     "data": {
      "text/plain": "[<matplotlib.lines.Line2D at 0x169acd280>]"
     },
     "execution_count": 11,
     "metadata": {},
     "output_type": "execute_result"
    },
    {
     "data": {
      "text/plain": "<Figure size 640x480 with 1 Axes>",
      "image/png": "[encoded data removed]"
     },
     "metadata": {},
     "output_type": "display_data"
    }
   ],
   "source": [
    "plt.plot(loss_list)\n"
   ],
   "metadata": {
    "collapsed": false,
    "ExecuteTime": {
     "end_time": "2024-02-07T19:01:32.876799Z",
     "start_time": "2024-02-07T19:01:32.762529Z"
    }
   }
  },
  {
   "cell_type": "code",
   "execution_count": 12,
   "outputs": [
    {
     "ename": "KeyboardInterrupt",
     "evalue": "",
     "output_type": "error",
     "traceback": [
      "\u001B[0;31m---------------------------------------------------------------------------\u001B[0m",
      "\u001B[0;31mKeyboardInterrupt\u001B[0m                         Traceback (most recent call last)",
      "Cell \u001B[0;32mIn[12], line 3\u001B[0m\n\u001B[1;32m      1\u001B[0m \u001B[38;5;66;03m# Compute negative log likelihood of the train/validation\u001B[39;00m\n\u001B[0;32m----> 3\u001B[0m \u001B[38;5;28mprint\u001B[39m(\u001B[38;5;124mf\u001B[39m\u001B[38;5;124m\"\u001B[39m\u001B[38;5;124mtrain loss: \u001B[39m\u001B[38;5;132;01m{\u001B[39;00mattention_model\u001B[38;5;241m.\u001B[39mdataset_loss(train_data,\u001B[38;5;250m \u001B[39mtrain_targets)\u001B[38;5;132;01m}\u001B[39;00m\u001B[38;5;124m\"\u001B[39m)\n\u001B[1;32m      4\u001B[0m \u001B[38;5;28mprint\u001B[39m(\u001B[38;5;124mf\u001B[39m\u001B[38;5;124m\"\u001B[39m\u001B[38;5;124mvalidation loss: \u001B[39m\u001B[38;5;132;01m{\u001B[39;00mattention_model\u001B[38;5;241m.\u001B[39mdataset_loss(validation_data,\u001B[38;5;250m \u001B[39mvalidation_targets)\u001B[38;5;132;01m}\u001B[39;00m\u001B[38;5;124m\"\u001B[39m )\n",
      "File \u001B[0;32m~/Dev/nlp/venv/lib/python3.9/site-packages/torch/utils/_contextlib.py:115\u001B[0m, in \u001B[0;36mcontext_decorator.<locals>.decorate_context\u001B[0;34m(*args, **kwargs)\u001B[0m\n\u001B[1;32m    112\u001B[0m \u001B[38;5;129m@functools\u001B[39m\u001B[38;5;241m.\u001B[39mwraps(func)\n\u001B[1;32m    113\u001B[0m \u001B[38;5;28;01mdef\u001B[39;00m \u001B[38;5;21mdecorate_context\u001B[39m(\u001B[38;5;241m*\u001B[39margs, \u001B[38;5;241m*\u001B[39m\u001B[38;5;241m*\u001B[39mkwargs):\n\u001B[1;32m    114\u001B[0m     \u001B[38;5;28;01mwith\u001B[39;00m ctx_factory():\n\u001B[0;32m--> 115\u001B[0m         \u001B[38;5;28;01mreturn\u001B[39;00m \u001B[43mfunc\u001B[49m\u001B[43m(\u001B[49m\u001B[38;5;241;43m*\u001B[39;49m\u001B[43margs\u001B[49m\u001B[43m,\u001B[49m\u001B[43m \u001B[49m\u001B[38;5;241;43m*\u001B[39;49m\u001B[38;5;241;43m*\u001B[39;49m\u001B[43mkwargs\u001B[49m\u001B[43m)\u001B[49m\n",
      "File \u001B[0;32m~/Dev/nlp/attention/model.py:144\u001B[0m, in \u001B[0;36mSimpleTransformer.dataset_loss\u001B[0;34m(self, all_inputs, all_targets)\u001B[0m\n\u001B[1;32m    142\u001B[0m \u001B[38;5;129m@torch\u001B[39m\u001B[38;5;241m.\u001B[39mno_grad\n\u001B[1;32m    143\u001B[0m \u001B[38;5;28;01mdef\u001B[39;00m \u001B[38;5;21mdataset_loss\u001B[39m(\u001B[38;5;28mself\u001B[39m, all_inputs: torch\u001B[38;5;241m.\u001B[39mTensor, all_targets: torch\u001B[38;5;241m.\u001B[39mTensor) \u001B[38;5;241m-\u001B[39m\u001B[38;5;241m>\u001B[39m torch\u001B[38;5;241m.\u001B[39mTensor:\n\u001B[0;32m--> 144\u001B[0m     out \u001B[38;5;241m=\u001B[39m \u001B[38;5;28;43mself\u001B[39;49m\u001B[38;5;241;43m.\u001B[39;49m\u001B[43mforward\u001B[49m\u001B[43m(\u001B[49m\u001B[43mall_inputs\u001B[49m\u001B[43m)\u001B[49m\n\u001B[1;32m    145\u001B[0m     \u001B[38;5;28;01mreturn\u001B[39;00m \u001B[38;5;28mself\u001B[39m\u001B[38;5;241m.\u001B[39mloss(out, all_targets)\n",
      "File \u001B[0;32m~/Dev/nlp/attention/model.py:241\u001B[0m, in \u001B[0;36mTransformer.forward\u001B[0;34m(self, inputs_idx)\u001B[0m\n\u001B[1;32m    235\u001B[0m \u001B[38;5;28;01mfor\u001B[39;00m _ \u001B[38;5;129;01min\u001B[39;00m \u001B[38;5;28mrange\u001B[39m(\u001B[38;5;241m0\u001B[39m, \u001B[38;5;28mself\u001B[39m\u001B[38;5;241m.\u001B[39mhp[\u001B[38;5;124m\"\u001B[39m\u001B[38;5;124mnum_of_attention_blocks\u001B[39m\u001B[38;5;124m\"\u001B[39m]):\n\u001B[1;32m    236\u001B[0m \n\u001B[1;32m    237\u001B[0m     \u001B[38;5;66;03m# multi-headed attention\u001B[39;00m\n\u001B[1;32m    238\u001B[0m \n\u001B[1;32m    239\u001B[0m     \u001B[38;5;66;03m# we need to break up the dimensionality of our vector\u001B[39;00m\n\u001B[1;32m    240\u001B[0m     split_embedding \u001B[38;5;241m=\u001B[39m torch\u001B[38;5;241m.\u001B[39msplit(embedding, \u001B[38;5;28mself\u001B[39m\u001B[38;5;241m.\u001B[39mdim_of_attention_head, dim\u001B[38;5;241m=\u001B[39m\u001B[38;5;241m-\u001B[39m\u001B[38;5;241m1\u001B[39m)\n\u001B[0;32m--> 241\u001B[0m     split_attention_embedding \u001B[38;5;241m=\u001B[39m [head(emb)[\u001B[38;5;241m0\u001B[39m] \u001B[38;5;28;01mfor\u001B[39;00m head, emb \u001B[38;5;129;01min\u001B[39;00m \u001B[38;5;28mzip\u001B[39m(\u001B[38;5;28mself\u001B[39m\u001B[38;5;241m.\u001B[39mattention_heads, split_embedding)]\n\u001B[1;32m    242\u001B[0m     attention_embedding_cat \u001B[38;5;241m=\u001B[39m torch\u001B[38;5;241m.\u001B[39mcat(split_attention_embedding, dim\u001B[38;5;241m=\u001B[39m\u001B[38;5;241m-\u001B[39m\u001B[38;5;241m1\u001B[39m)\n\u001B[1;32m    243\u001B[0m     attention_embedding \u001B[38;5;241m=\u001B[39m \u001B[38;5;28mself\u001B[39m\u001B[38;5;241m.\u001B[39mlinear_proj_1(attention_embedding_cat)\n",
      "File \u001B[0;32m~/Dev/nlp/attention/model.py:241\u001B[0m, in \u001B[0;36m<listcomp>\u001B[0;34m(.0)\u001B[0m\n\u001B[1;32m    235\u001B[0m \u001B[38;5;28;01mfor\u001B[39;00m _ \u001B[38;5;129;01min\u001B[39;00m \u001B[38;5;28mrange\u001B[39m(\u001B[38;5;241m0\u001B[39m, \u001B[38;5;28mself\u001B[39m\u001B[38;5;241m.\u001B[39mhp[\u001B[38;5;124m\"\u001B[39m\u001B[38;5;124mnum_of_attention_blocks\u001B[39m\u001B[38;5;124m\"\u001B[39m]):\n\u001B[1;32m    236\u001B[0m \n\u001B[1;32m    237\u001B[0m     \u001B[38;5;66;03m# multi-headed attention\u001B[39;00m\n\u001B[1;32m    238\u001B[0m \n\u001B[1;32m    239\u001B[0m     \u001B[38;5;66;03m# we need to break up the dimensionality of our vector\u001B[39;00m\n\u001B[1;32m    240\u001B[0m     split_embedding \u001B[38;5;241m=\u001B[39m torch\u001B[38;5;241m.\u001B[39msplit(embedding, \u001B[38;5;28mself\u001B[39m\u001B[38;5;241m.\u001B[39mdim_of_attention_head, dim\u001B[38;5;241m=\u001B[39m\u001B[38;5;241m-\u001B[39m\u001B[38;5;241m1\u001B[39m)\n\u001B[0;32m--> 241\u001B[0m     split_attention_embedding \u001B[38;5;241m=\u001B[39m [\u001B[43mhead\u001B[49m\u001B[43m(\u001B[49m\u001B[43memb\u001B[49m\u001B[43m)\u001B[49m[\u001B[38;5;241m0\u001B[39m] \u001B[38;5;28;01mfor\u001B[39;00m head, emb \u001B[38;5;129;01min\u001B[39;00m \u001B[38;5;28mzip\u001B[39m(\u001B[38;5;28mself\u001B[39m\u001B[38;5;241m.\u001B[39mattention_heads, split_embedding)]\n\u001B[1;32m    242\u001B[0m     attention_embedding_cat \u001B[38;5;241m=\u001B[39m torch\u001B[38;5;241m.\u001B[39mcat(split_attention_embedding, dim\u001B[38;5;241m=\u001B[39m\u001B[38;5;241m-\u001B[39m\u001B[38;5;241m1\u001B[39m)\n\u001B[1;32m    243\u001B[0m     attention_embedding \u001B[38;5;241m=\u001B[39m \u001B[38;5;28mself\u001B[39m\u001B[38;5;241m.\u001B[39mlinear_proj_1(attention_embedding_cat)\n",
      "File \u001B[0;32m~/Dev/nlp/attention/attention.py:42\u001B[0m, in \u001B[0;36mBatchedSelfAttentionHead.__call__\u001B[0;34m(self, input)\u001B[0m\n\u001B[1;32m     39\u001B[0m     scores \u001B[38;5;241m=\u001B[39m F\u001B[38;5;241m.\u001B[39msoftmax(matrix, dim\u001B[38;5;241m=\u001B[39m\u001B[38;5;241m2\u001B[39m)\n\u001B[1;32m     41\u001B[0m \u001B[38;5;66;03m# Compute weighted embeddings\u001B[39;00m\n\u001B[0;32m---> 42\u001B[0m new_embeddings \u001B[38;5;241m=\u001B[39m \u001B[43mscores\u001B[49m\u001B[43m \u001B[49m\u001B[38;5;241;43m@\u001B[39;49m\u001B[43m \u001B[49m\u001B[43mvalues\u001B[49m\n\u001B[1;32m     43\u001B[0m \u001B[38;5;28;01mreturn\u001B[39;00m new_embeddings, scores\n",
      "\u001B[0;31mKeyboardInterrupt\u001B[0m: "
     ]
    }
   ],
   "source": [
    "# Compute negative log likelihood of the train/validation\n",
    "\n",
    "print(f\"train loss: {attention_model.dataset_loss(train_data, train_targets)}\")\n",
    "print(f\"validation loss: {attention_model.dataset_loss(validation_data, validation_targets)}\" )"
   ],
   "metadata": {
    "collapsed": false,
    "ExecuteTime": {
     "end_time": "2024-02-07T19:05:44.994318Z",
     "start_time": "2024-02-07T19:01:38.168219Z"
    }
   }
  },
  {
   "cell_type": "code",
   "execution_count": null,
   "outputs": [],
   "source": [
    "print(decoder(attention_model.generate(1000)))"
   ],
   "metadata": {
    "collapsed": false,
    "ExecuteTime": {
     "start_time": "2024-02-07T19:05:44.992958Z"
    }
   }
  },
  {
   "cell_type": "code",
   "outputs": [],
   "source": [],
   "metadata": {
    "collapsed": false
   }
  }
 ],
 "metadata": {
  "kernelspec": {
   "display_name": "Python 3",
   "language": "python",
   "name": "python3"
  },
  "language_info": {
   "codemirror_mode": {
    "name": "ipython",
    "version": 2
   },
   "file_extension": ".py",
   "mimetype": "text/x-python",
   "name": "python",
   "nbconvert_exporter": "python",
   "pygments_lexer": "ipython2",
   "version": "2.7.6"
  }
 },
 "nbformat": 4,
 "nbformat_minor": 0
}
