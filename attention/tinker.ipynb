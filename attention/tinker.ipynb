{
 "cells": [
  {
   "cell_type": "code",
   "execution_count": 2,
   "metadata": {
    "collapsed": true,
    "ExecuteTime": {
     "end_time": "2024-02-05T21:38:47.412216Z",
     "start_time": "2024-02-05T21:38:46.520122Z"
    }
   },
   "outputs": [],
   "source": [
    "# Third party\n",
    "import importlib\n",
    "import torch\n",
    "import matplotlib.pyplot as plt\n",
    "\n",
    "# User\n",
    "import importlib\n",
    "import base.encode\n",
    "import attention\n",
    "importlib.reload(base.encode)\n",
    "importlib.reload(attention)\n",
    "\n",
    "from base.encode import get_encoder_decoder\n",
    "from attention import SelfAttentionHead\n",
    "\n",
    "torch.set_printoptions(sci_mode=False, linewidth=200)\n"
   ]
  },
  {
   "cell_type": "code",
   "execution_count": 3,
   "outputs": [
    {
     "data": {
      "text/plain": "[35, 53, 59, 50, 42, 1, 63, 53, 59]"
     },
     "execution_count": 3,
     "metadata": {},
     "output_type": "execute_result"
    }
   ],
   "source": [
    "encoder, decoder = get_encoder_decoder(training_data=\"../data/shakespear.txt\", type='character')\n",
    "encoder(\"Would you\")"
   ],
   "metadata": {
    "collapsed": false,
    "ExecuteTime": {
     "end_time": "2024-02-05T21:38:48.008948Z",
     "start_time": "2024-02-05T21:38:47.988099Z"
    }
   }
  },
  {
   "cell_type": "code",
   "execution_count": 4,
   "outputs": [
    {
     "data": {
      "text/plain": "([35, 53, 59, 50, 42, 1, 63, 53, 59],\n tensor([[-0.9205, -0.8238],\n         [ 0.5364, -1.5131],\n         [ 0.1597,  0.6444],\n         [-0.6822,  0.4506],\n         [ 1.2922, -0.9028],\n         [ 0.7594,  1.1730],\n         [-0.3377,  1.0273],\n         [ 1.6784,  0.9476],\n         [ 0.1044, -1.3956]], dtype=torch.float64),\n torch.Size([9, 2]))"
     },
     "execution_count": 4,
     "metadata": {},
     "output_type": "execute_result"
    }
   ],
   "source": [
    "data = \"Would you\"\n",
    "input_length = len(data)\n",
    "g = torch.Generator().manual_seed(2147483647)\n",
    "input_embedding_dim = 2\n",
    "out_dimension = 2\n",
    "\n",
    "encoded_input = encoder(data)\n",
    "input_embedded = torch.randn(size=(len(data), input_embedding_dim), dtype=torch.float64, generator=g)\n",
    "encoded_input, input_embedded, input_embedded.shape\n"
   ],
   "metadata": {
    "collapsed": false,
    "ExecuteTime": {
     "end_time": "2024-02-05T21:38:48.876360Z",
     "start_time": "2024-02-05T21:38:48.854757Z"
    }
   }
  },
  {
   "cell_type": "code",
   "execution_count": 5,
   "outputs": [
    {
     "data": {
      "text/plain": "(tensor([[-0.6987,  0.3197],\n         [-1.2031, -0.0546],\n         [-1.3092, -0.5607],\n         [ 0.7820,  0.4099],\n         [-2.4286, -1.0927],\n         [-2.2006, -1.3453],\n         [ 0.7242, -0.0397],\n         [-2.3422, -1.3764],\n         [-0.5217,  0.1533]], dtype=torch.float64),\n tensor([[    1.0000,     0.0000,     0.0000,     0.0000,     0.0000,     0.0000,     0.0000,     0.0000,     0.0000],\n         [    0.7512,     0.2488,     0.0000,     0.0000,     0.0000,     0.0000,     0.0000,     0.0000,     0.0000],\n         [    0.1173,     0.5584,     0.3243,     0.0000,     0.0000,     0.0000,     0.0000,     0.0000,     0.0000],\n         [    0.0824,     0.0264,     0.4716,     0.4196,     0.0000,     0.0000,     0.0000,     0.0000,     0.0000],\n         [    0.0902,     0.7152,     0.0030,     0.0040,     0.1876,     0.0000,     0.0000,     0.0000,     0.0000],\n         [    0.0033,     0.2114,     0.0115,     0.0018,     0.7422,     0.0298,     0.0000,     0.0000,     0.0000],\n         [    0.0147,     0.0336,     0.1611,     0.0587,     0.1231,     0.4699,     0.1388,     0.0000,     0.0000],\n         [    0.0005,     0.3027,     0.0004,     0.0000,     0.6762,     0.0006,     0.0000,     0.0195,     0.0000],\n         [    0.5324,     0.0642,     0.0327,     0.1602,     0.0118,     0.0083,     0.0616,     0.0019,     0.1268]], dtype=torch.float64))"
     },
     "execution_count": 5,
     "metadata": {},
     "output_type": "execute_result"
    }
   ],
   "source": [
    "# 9x2  2x3 -> 9x3 * 3x9\n",
    "a = SelfAttentionHead(input_embedding_dim, out_dimension, block_type=\"decoder\", generator=g)\n",
    "embeddings, scores = a(input_embedded) #9x3\n",
    "\n",
    "# 9x2 (Input) x 2x3 queries/keys -> 2x9 (Input) x 9x3 (All inputs transposed)  = 2x7 (Inputs weighted)\n",
    "# 9x7 (Q) x 9x7 (K) -> 9x7 7x9 (Inputs weighted x inputs weighted) -> 9x9 (Final input matrix)\n",
    "# 9x9 x 9x3 -> 9x3\n",
    "embeddings, scores"
   ],
   "metadata": {
    "collapsed": false,
    "ExecuteTime": {
     "end_time": "2024-02-05T21:38:50.105889Z",
     "start_time": "2024-02-05T21:38:50.101050Z"
    }
   }
  },
  {
   "cell_type": "code",
   "execution_count": null,
   "outputs": [],
   "source": [],
   "metadata": {
    "collapsed": false
   }
  }
 ],
 "metadata": {
  "kernelspec": {
   "display_name": "Python 3",
   "language": "python",
   "name": "python3"
  },
  "language_info": {
   "codemirror_mode": {
    "name": "ipython",
    "version": 2
   },
   "file_extension": ".py",
   "mimetype": "text/x-python",
   "name": "python",
   "nbconvert_exporter": "python",
   "pygments_lexer": "ipython2",
   "version": "2.7.6"
  }
 },
 "nbformat": 4,
 "nbformat_minor": 0
}
