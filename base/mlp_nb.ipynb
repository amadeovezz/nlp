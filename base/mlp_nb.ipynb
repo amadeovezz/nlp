{
 "cells": [
  {
   "cell_type": "code",
   "execution_count": 32,
   "metadata": {
    "collapsed": true,
    "ExecuteTime": {
     "end_time": "2023-12-29T16:24:54.730347Z",
     "start_time": "2023-12-29T16:24:54.724531Z"
    }
   },
   "outputs": [],
   "source": [
    "# Third party\n",
    "import importlib\n",
    "import torch\n",
    "import matplotlib.pyplot as plt\n",
    "\n",
    "# User\n",
    "import base.abstract\n",
    "import base.mlp\n",
    "import base.train\n",
    "import base.encode\n",
    "import base.pre_process\n",
    "\n",
    "importlib.reload(base.abstract)\n",
    "importlib.reload(base.mlp)\n",
    "importlib.reload(base.train)\n",
    "importlib.reload(base.encode)\n",
    "importlib.reload(base.pre_process)\n",
    "\n",
    "from base.mlp import MLP, LinearLayer\n",
    "from base.train import sgd\n",
    "from base.encode import get_encoder_decoder\n",
    "from base.pre_process import get_dataset"
   ]
  },
  {
   "cell_type": "code",
   "execution_count": 23,
   "outputs": [
    {
     "data": {
      "text/plain": "({'\\n',\n  ' ',\n  '!',\n  '$',\n  '&',\n  \"'\",\n  ',',\n  '-',\n  '.',\n  '3',\n  ':',\n  ';',\n  '?',\n  'A',\n  'B',\n  'C',\n  'D',\n  'E',\n  'F',\n  'G',\n  'H',\n  'I',\n  'J',\n  'K',\n  'L',\n  'M',\n  'N',\n  'O',\n  'P',\n  'Q',\n  'R',\n  'S',\n  'T',\n  'U',\n  'V',\n  'W',\n  'X',\n  'Y',\n  'Z',\n  'a',\n  'b',\n  'c',\n  'd',\n  'e',\n  'f',\n  'g',\n  'h',\n  'i',\n  'j',\n  'k',\n  'l',\n  'm',\n  'n',\n  'o',\n  'p',\n  'q',\n  'r',\n  's',\n  't',\n  'u',\n  'v',\n  'w',\n  'x',\n  'y',\n  'z'},\n 'First Citi',\n tensor([18, 47, 56, 57, 58,  1, 15, 47, 58, 47]))"
     },
     "execution_count": 23,
     "metadata": {},
     "output_type": "execute_result"
    }
   ],
   "source": [
    "encoder, decoder = get_encoder_decoder(training_data=\"../data/shakespear.txt\", type='character')\n",
    "# let's now encode the entire text dataset and store it into a torch.Tensor\n",
    "with open(\"../data/shakespear.txt\", 'r', encoding='utf-8') as f:\n",
    "    text = f.read()\n",
    "text_encoded = torch.tensor(encoder(text), dtype=torch.long)\n",
    "unique_chars = sorted(list(set(text)))\n",
    "set(text), text[0:10], text_encoded[0:10]"
   ],
   "metadata": {
    "collapsed": false,
    "ExecuteTime": {
     "end_time": "2023-12-28T18:28:49.195445Z",
     "start_time": "2023-12-28T18:28:49.093004Z"
    }
   }
  },
  {
   "cell_type": "code",
   "execution_count": 14,
   "outputs": [
    {
     "data": {
      "text/plain": "(948085, 167309)"
     },
     "execution_count": 14,
     "metadata": {},
     "output_type": "execute_result"
    }
   ],
   "source": [
    "token_length = 3\n",
    "dataset =  get_dataset(text_encoded, 3, context_window=\"fixed\")\n",
    "train_data, train_targets = dataset[\"train\"]\n",
    "validation_data, validation_targets = dataset[\"validation\"]\n",
    "len(train_data), len(validation_data)\n",
    "\n"
   ],
   "metadata": {
    "collapsed": false,
    "ExecuteTime": {
     "end_time": "2023-12-28T18:25:51.241439Z",
     "start_time": "2023-12-28T18:25:48.417721Z"
    }
   }
  },
  {
   "cell_type": "code",
   "execution_count": 24,
   "outputs": [],
   "source": [
    "# We can create a general MLP with no embedding\n",
    "hp = {\n",
    "    \"init_learning_rate\": .1,\n",
    "    \"converging_learning_rate\": .01,\n",
    "    \"learning_rate\": .1,\n",
    "    \"epochs\": 100000,\n",
    "    \"num_layer_1_nodes\": 10,\n",
    "    \"mini_batch_size\": 3,\n",
    "    \"token_length\": token_length\n",
    "}\n",
    "\n",
    "l1 = LinearLayer(\n",
    "    num_of_inputs=hp['token_length'],\n",
    "    num_of_neurons=hp['num_layer_1_nodes'],\n",
    "    activation_func=torch.tanh,\n",
    ")\n",
    "l2 = LinearLayer(\n",
    "    num_of_inputs=hp['num_layer_1_nodes'],\n",
    "    num_of_neurons=len(unique_chars),\n",
    ")\n",
    "\n",
    "mlp = MLP([l1,l2])"
   ],
   "metadata": {
    "collapsed": false,
    "ExecuteTime": {
     "end_time": "2023-12-28T18:28:51.126714Z",
     "start_time": "2023-12-28T18:28:51.122098Z"
    }
   }
  },
  {
   "cell_type": "code",
   "execution_count": 25,
   "outputs": [
    {
     "name": "stdout",
     "output_type": "stream",
     "text": [
      "epoch: 0 / 100000, loss: 8.2317\n",
      "epoch: 10000 / 100000, loss: 3.3782\n",
      "epoch: 20000 / 100000, loss: 2.4853\n",
      "epoch: 30000 / 100000, loss: 3.1908\n",
      "epoch: 40000 / 100000, loss: 2.4443\n",
      "epoch: 50000 / 100000, loss: 2.7964\n",
      "epoch: 60000 / 100000, loss: 5.3189\n",
      "epoch: 70000 / 100000, loss: 3.3932\n",
      "epoch: 80000 / 100000, loss: 3.5809\n",
      "epoch: 90000 / 100000, loss: 3.0085\n"
     ]
    }
   ],
   "source": [
    "loss_list = []\n",
    "mlp.require_grad()\n",
    "sgd(hp, mlp, train_data.double(), train_targets, loss_list)"
   ],
   "metadata": {
    "collapsed": false,
    "ExecuteTime": {
     "end_time": "2023-12-28T18:28:59.964170Z",
     "start_time": "2023-12-28T18:28:51.863932Z"
    }
   }
  },
  {
   "cell_type": "code",
   "execution_count": 26,
   "outputs": [
    {
     "data": {
      "text/plain": "[<matplotlib.lines.Line2D at 0x12ff8d9d0>]"
     },
     "execution_count": 26,
     "metadata": {},
     "output_type": "execute_result"
    },
    {
     "data": {
      "text/plain": "<Figure size 640x480 with 1 Axes>",
      "image/png": "[encoded data removed]"
     },
     "metadata": {},
     "output_type": "display_data"
    }
   ],
   "source": [
    "plt.plot(loss_list)\n"
   ],
   "metadata": {
    "collapsed": false,
    "ExecuteTime": {
     "end_time": "2023-12-28T18:29:01.392666Z",
     "start_time": "2023-12-28T18:29:01.163694Z"
    }
   }
  },
  {
   "cell_type": "code",
   "execution_count": 29,
   "outputs": [
    {
     "name": "stdout",
     "output_type": "stream",
     "text": [
      "train loss: 3.3667315811461935\n",
      "validation loss: 3.3861852437693476\n"
     ]
    }
   ],
   "source": [
    "# Compute negative log likelihood of the train/validation\n",
    "\n",
    "print(f\"train loss: {mlp.dataset_loss(train_data.double(), train_targets)}\")\n",
    "print(f\"validation loss: {mlp.dataset_loss(validation_data.double(), validation_targets)}\")"
   ],
   "metadata": {
    "collapsed": false,
    "ExecuteTime": {
     "end_time": "2023-12-28T18:29:36.626398Z",
     "start_time": "2023-12-28T18:29:36.305214Z"
    }
   }
  },
  {
   "cell_type": "code",
   "execution_count": null,
   "outputs": [],
   "source": [],
   "metadata": {
    "collapsed": false
   }
  }
 ],
 "metadata": {
  "kernelspec": {
   "display_name": "Python 3",
   "language": "python",
   "name": "python3"
  },
  "language_info": {
   "codemirror_mode": {
    "name": "ipython",
    "version": 2
   },
   "file_extension": ".py",
   "mimetype": "text/x-python",
   "name": "python",
   "nbconvert_exporter": "python",
   "pygments_lexer": "ipython2",
   "version": "2.7.6"
  }
 },
 "nbformat": 4,
 "nbformat_minor": 0
}
